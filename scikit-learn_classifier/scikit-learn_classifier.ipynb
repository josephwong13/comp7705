{
 "cells": [
  {
   "cell_type": "code",
   "execution_count": 1,
   "metadata": {},
   "outputs": [],
   "source": [
    "# Import required libraries\n",
    "import pandas as pd\n",
    "import matplotlib.pyplot as plt\n",
    "import seaborn as sns\n",
    "from pathlib import Path\n",
    "from sklearn.model_selection import train_test_split\n",
    "from sklearn.feature_extraction.text import CountVectorizer, TfidfVectorizer, HashingVectorizer\n",
    "from sklearn.metrics import classification_report, confusion_matrix\n",
    "from sklearn.cluster import KMeans\n",
    "from sklearn.ensemble import AdaBoostClassifier, GradientBoostingClassifier, RandomForestClassifier\n",
    "from sklearn.linear_model import LogisticRegression, SGDClassifier\n",
    "from sklearn.naive_bayes import GaussianNB, MultinomialNB\n",
    "from sklearn.neighbors import KNeighborsClassifier\n",
    "from sklearn.tree import DecisionTreeClassifier, DecisionTreeRegressor\n",
    "from sklearn.metrics import accuracy_score\n",
    "from datetime import datetime\n",
    "import pytz\n",
    "import gc\n"
   ]
  },
  {
   "cell_type": "code",
   "execution_count": 2,
   "metadata": {},
   "outputs": [
    {
     "data": {
      "text/plain": [
       "[PosixPath('../dataset/best_dataset.csv')]"
      ]
     },
     "execution_count": 2,
     "metadata": {},
     "output_type": "execute_result"
    }
   ],
   "source": [
    "# Define list of dataset\n",
    "dir = '../dataset/'\n",
    "datasets = [file for file in Path(dir).glob('*.csv') if file.name == 'best_dataset.csv']\n",
    "\n",
    "datasets\n"
   ]
  },
  {
   "cell_type": "code",
   "execution_count": 3,
   "metadata": {},
   "outputs": [],
   "source": [
    "# Helper function to load data\n",
    "def load_data(filename):\n",
    "    print(filename)\n",
    "\n",
    "    df = pd.read_csv(filename, header=None, encoding='utf-8').dropna()\n",
    "    df.columns = ['label', 'data']\n",
    "\n",
    "    global X, y\n",
    "\n",
    "    X = df['data']\n",
    "    y = df['label']\n"
   ]
  },
  {
   "cell_type": "code",
   "execution_count": 4,
   "metadata": {},
   "outputs": [],
   "source": [
    "# Helper function to create train val test split\n",
    "def split_dataset(X, y):\n",
    "    global X_train, y_train, X_val, y_val, X_test, y_test\n",
    "\n",
    "    # train 7 : val 2 : test 1\n",
    "    X_train, X_val, y_train, y_val = train_test_split(X, y, test_size=0.3, random_state=7)\n",
    "    X_val, X_test, y_val, y_test = train_test_split(X_val, y_val, test_size=0.33, random_state=7)\n"
   ]
  },
  {
   "cell_type": "code",
   "execution_count": 5,
   "metadata": {},
   "outputs": [],
   "source": [
    "# Helper function to extract feature\n",
    "def extract_feature(vectorizer, X):\n",
    "    vectorizer.fit(X)\n",
    "\n",
    "    global X_train, X_val, X_test\n",
    "\n",
    "    X_train = vectorizer.transform(X_train).toarray()\n",
    "    X_val = vectorizer.transform(X_val).toarray()\n",
    "    X_test = vectorizer.transform(X_test).toarray()\n",
    "\n",
    "    print(X_train.shape)\n",
    "    print(X_val.shape)\n",
    "    print(X_test.shape)\n"
   ]
  },
  {
   "cell_type": "code",
   "execution_count": 6,
   "metadata": {},
   "outputs": [],
   "source": [
    "def useClassifier(classifier):\n",
    "    try:\n",
    "        print(classifier)\n",
    "\n",
    "        classifier.fit(X_train, y_train)\n",
    "\n",
    "        y_pred = classifier.predict(X_val)\n",
    "        val_accuracy = accuracy_score(y_val, y_pred)\n",
    "\n",
    "        print(val_accuracy)\n",
    "\n",
    "        y_pred = classifier.predict(X_test)\n",
    "        test_accuracy = accuracy_score(y_test, y_pred)\n",
    "\n",
    "        print(test_accuracy)\n",
    "\n",
    "        del classifier\n",
    "\n",
    "        gc.collect()\n",
    "    except Exception as inst:\n",
    "        print('Something went wrong...')\n",
    "        print(type(inst))  # the exception type\n",
    "        print(inst.args)  # arguments stored in .args\n",
    "        print(inst)  # __str__ allows args to be printed directly\n",
    "\n",
    "\n",
    "def useAllClassifier():\n",
    "    useClassifier(AdaBoostClassifier(n_estimators=50, random_state=0))\n",
    "    useClassifier(AdaBoostClassifier(n_estimators=100, random_state=0))\n",
    "    useClassifier(AdaBoostClassifier(n_estimators=150, random_state=0))\n",
    "    useClassifier(DecisionTreeClassifier(random_state=0))\n",
    "    useClassifier(DecisionTreeRegressor(random_state=0))\n",
    "    useClassifier(GaussianNB())\n",
    "    useClassifier(GradientBoostingClassifier(n_estimators=100, learning_rate=0.1, random_state=0))\n",
    "    useClassifier(GradientBoostingClassifier(n_estimators=100, learning_rate=0.25, random_state=0))\n",
    "    useClassifier(GradientBoostingClassifier(n_estimators=100, learning_rate=0.5, random_state=0))\n",
    "    useClassifier(GradientBoostingClassifier(n_estimators=100, learning_rate=0.75, random_state=0))\n",
    "    useClassifier(GradientBoostingClassifier(n_estimators=100, learning_rate=1.0, random_state=0))\n",
    "    useClassifier(KMeans(n_clusters=2, random_state=0, n_init='auto'))\n",
    "    useClassifier(KNeighborsClassifier(n_neighbors=3))\n",
    "    useClassifier(KNeighborsClassifier(n_neighbors=5))\n",
    "    useClassifier(LogisticRegression(random_state=0))\n",
    "    useClassifier(MultinomialNB())\n",
    "    useClassifier(RandomForestClassifier(n_estimators=10, random_state=0))\n",
    "    useClassifier(RandomForestClassifier(n_estimators=50, random_state=0))\n",
    "    useClassifier(RandomForestClassifier(n_estimators=100, random_state=0))\n",
    "    useClassifier(SGDClassifier(max_iter=1000, tol=1e-3))\n"
   ]
  },
  {
   "cell_type": "code",
   "execution_count": 7,
   "metadata": {},
   "outputs": [],
   "source": [
    "def resetGlobalVar():\n",
    "    X = None\n",
    "    y = None\n",
    "    X_train = None\n",
    "    y_train = None\n",
    "    X_val = None\n",
    "    y_val = None\n",
    "    X_test = None\n",
    "    y_test = None\n",
    "\n",
    "resetGlobalVar()"
   ]
  },
  {
   "cell_type": "code",
   "execution_count": 8,
   "metadata": {},
   "outputs": [
    {
     "name": "stdout",
     "output_type": "stream",
     "text": [
      "0\n",
      "2023-07-15 16:01:45\n",
      "../dataset/best_dataset.csv\n",
      "CountVectorizer()\n",
      "(23082, 42852)\n",
      "(6628, 42852)\n",
      "(3265, 42852)\n",
      "AdaBoostClassifier(random_state=0)\n"
     ]
    },
    {
     "ename": "KeyboardInterrupt",
     "evalue": "",
     "output_type": "error",
     "traceback": [
      "\u001b[0;31m---------------------------------------------------------------------------\u001b[0m",
      "\u001b[0;31mKeyboardInterrupt\u001b[0m                         Traceback (most recent call last)",
      "Cell \u001b[0;32mIn[8], line 11\u001b[0m\n\u001b[1;32m      9\u001b[0m split_dataset(X, y)\n\u001b[1;32m     10\u001b[0m extract_feature(CountVectorizer(), X)\n\u001b[0;32m---> 11\u001b[0m useAllClassifier()\n",
      "Cell \u001b[0;32mIn[6], line 28\u001b[0m, in \u001b[0;36museAllClassifier\u001b[0;34m()\u001b[0m\n\u001b[1;32m     27\u001b[0m \u001b[39mdef\u001b[39;00m \u001b[39museAllClassifier\u001b[39m():\n\u001b[0;32m---> 28\u001b[0m     useClassifier(AdaBoostClassifier(n_estimators\u001b[39m=\u001b[39;49m\u001b[39m50\u001b[39;49m, random_state\u001b[39m=\u001b[39;49m\u001b[39m0\u001b[39;49m))\n\u001b[1;32m     29\u001b[0m     useClassifier(AdaBoostClassifier(n_estimators\u001b[39m=\u001b[39m\u001b[39m100\u001b[39m, random_state\u001b[39m=\u001b[39m\u001b[39m0\u001b[39m))\n\u001b[1;32m     30\u001b[0m     useClassifier(AdaBoostClassifier(n_estimators\u001b[39m=\u001b[39m\u001b[39m150\u001b[39m, random_state\u001b[39m=\u001b[39m\u001b[39m0\u001b[39m))\n",
      "Cell \u001b[0;32mIn[6], line 5\u001b[0m, in \u001b[0;36museClassifier\u001b[0;34m(classifier)\u001b[0m\n\u001b[1;32m      2\u001b[0m \u001b[39mtry\u001b[39;00m:\n\u001b[1;32m      3\u001b[0m     \u001b[39mprint\u001b[39m(classifier)\n\u001b[0;32m----> 5\u001b[0m     classifier\u001b[39m.\u001b[39;49mfit(X_train, y_train)\n\u001b[1;32m      7\u001b[0m     y_pred \u001b[39m=\u001b[39m classifier\u001b[39m.\u001b[39mpredict(X_val)\n\u001b[1;32m      8\u001b[0m     val_accuracy \u001b[39m=\u001b[39m accuracy_score(y_val, y_pred)\n",
      "File \u001b[0;32m~/.local/share/virtualenvs/feature-extration-hVrao3f-/lib/python3.9/site-packages/sklearn/ensemble/_weight_boosting.py:162\u001b[0m, in \u001b[0;36mBaseWeightBoosting.fit\u001b[0;34m(self, X, y, sample_weight)\u001b[0m\n\u001b[1;32m    159\u001b[0m sample_weight[zero_weight_mask] \u001b[39m=\u001b[39m \u001b[39m0.0\u001b[39m\n\u001b[1;32m    161\u001b[0m \u001b[39m# Boosting step\u001b[39;00m\n\u001b[0;32m--> 162\u001b[0m sample_weight, estimator_weight, estimator_error \u001b[39m=\u001b[39m \u001b[39mself\u001b[39;49m\u001b[39m.\u001b[39;49m_boost(\n\u001b[1;32m    163\u001b[0m     iboost, X, y, sample_weight, random_state\n\u001b[1;32m    164\u001b[0m )\n\u001b[1;32m    166\u001b[0m \u001b[39m# Early termination\u001b[39;00m\n\u001b[1;32m    167\u001b[0m \u001b[39mif\u001b[39;00m sample_weight \u001b[39mis\u001b[39;00m \u001b[39mNone\u001b[39;00m:\n",
      "File \u001b[0;32m~/.local/share/virtualenvs/feature-extration-hVrao3f-/lib/python3.9/site-packages/sklearn/ensemble/_weight_boosting.py:569\u001b[0m, in \u001b[0;36mAdaBoostClassifier._boost\u001b[0;34m(self, iboost, X, y, sample_weight, random_state)\u001b[0m\n\u001b[1;32m    530\u001b[0m \u001b[39m\u001b[39m\u001b[39m\"\"\"Implement a single boost.\u001b[39;00m\n\u001b[1;32m    531\u001b[0m \n\u001b[1;32m    532\u001b[0m \u001b[39mPerform a single boost according to the real multi-class SAMME.R\u001b[39;00m\n\u001b[0;32m   (...)\u001b[0m\n\u001b[1;32m    566\u001b[0m \u001b[39m    If None then boosting has terminated early.\u001b[39;00m\n\u001b[1;32m    567\u001b[0m \u001b[39m\"\"\"\u001b[39;00m\n\u001b[1;32m    568\u001b[0m \u001b[39mif\u001b[39;00m \u001b[39mself\u001b[39m\u001b[39m.\u001b[39malgorithm \u001b[39m==\u001b[39m \u001b[39m\"\u001b[39m\u001b[39mSAMME.R\u001b[39m\u001b[39m\"\u001b[39m:\n\u001b[0;32m--> 569\u001b[0m     \u001b[39mreturn\u001b[39;00m \u001b[39mself\u001b[39;49m\u001b[39m.\u001b[39;49m_boost_real(iboost, X, y, sample_weight, random_state)\n\u001b[1;32m    571\u001b[0m \u001b[39melse\u001b[39;00m:  \u001b[39m# elif self.algorithm == \"SAMME\":\u001b[39;00m\n\u001b[1;32m    572\u001b[0m     \u001b[39mreturn\u001b[39;00m \u001b[39mself\u001b[39m\u001b[39m.\u001b[39m_boost_discrete(iboost, X, y, sample_weight, random_state)\n",
      "File \u001b[0;32m~/.local/share/virtualenvs/feature-extration-hVrao3f-/lib/python3.9/site-packages/sklearn/ensemble/_weight_boosting.py:578\u001b[0m, in \u001b[0;36mAdaBoostClassifier._boost_real\u001b[0;34m(self, iboost, X, y, sample_weight, random_state)\u001b[0m\n\u001b[1;32m    575\u001b[0m \u001b[39m\u001b[39m\u001b[39m\"\"\"Implement a single boost using the SAMME.R real algorithm.\"\"\"\u001b[39;00m\n\u001b[1;32m    576\u001b[0m estimator \u001b[39m=\u001b[39m \u001b[39mself\u001b[39m\u001b[39m.\u001b[39m_make_estimator(random_state\u001b[39m=\u001b[39mrandom_state)\n\u001b[0;32m--> 578\u001b[0m estimator\u001b[39m.\u001b[39;49mfit(X, y, sample_weight\u001b[39m=\u001b[39;49msample_weight)\n\u001b[1;32m    580\u001b[0m y_predict_proba \u001b[39m=\u001b[39m estimator\u001b[39m.\u001b[39mpredict_proba(X)\n\u001b[1;32m    582\u001b[0m \u001b[39mif\u001b[39;00m iboost \u001b[39m==\u001b[39m \u001b[39m0\u001b[39m:\n",
      "File \u001b[0;32m~/.local/share/virtualenvs/feature-extration-hVrao3f-/lib/python3.9/site-packages/sklearn/tree/_classes.py:889\u001b[0m, in \u001b[0;36mDecisionTreeClassifier.fit\u001b[0;34m(self, X, y, sample_weight, check_input)\u001b[0m\n\u001b[1;32m    859\u001b[0m \u001b[39mdef\u001b[39;00m \u001b[39mfit\u001b[39m(\u001b[39mself\u001b[39m, X, y, sample_weight\u001b[39m=\u001b[39m\u001b[39mNone\u001b[39;00m, check_input\u001b[39m=\u001b[39m\u001b[39mTrue\u001b[39;00m):\n\u001b[1;32m    860\u001b[0m \u001b[39m    \u001b[39m\u001b[39m\"\"\"Build a decision tree classifier from the training set (X, y).\u001b[39;00m\n\u001b[1;32m    861\u001b[0m \n\u001b[1;32m    862\u001b[0m \u001b[39m    Parameters\u001b[39;00m\n\u001b[0;32m   (...)\u001b[0m\n\u001b[1;32m    886\u001b[0m \u001b[39m        Fitted estimator.\u001b[39;00m\n\u001b[1;32m    887\u001b[0m \u001b[39m    \"\"\"\u001b[39;00m\n\u001b[0;32m--> 889\u001b[0m     \u001b[39msuper\u001b[39;49m()\u001b[39m.\u001b[39;49mfit(\n\u001b[1;32m    890\u001b[0m         X,\n\u001b[1;32m    891\u001b[0m         y,\n\u001b[1;32m    892\u001b[0m         sample_weight\u001b[39m=\u001b[39;49msample_weight,\n\u001b[1;32m    893\u001b[0m         check_input\u001b[39m=\u001b[39;49mcheck_input,\n\u001b[1;32m    894\u001b[0m     )\n\u001b[1;32m    895\u001b[0m     \u001b[39mreturn\u001b[39;00m \u001b[39mself\u001b[39m\n",
      "File \u001b[0;32m~/.local/share/virtualenvs/feature-extration-hVrao3f-/lib/python3.9/site-packages/sklearn/tree/_classes.py:186\u001b[0m, in \u001b[0;36mBaseDecisionTree.fit\u001b[0;34m(self, X, y, sample_weight, check_input)\u001b[0m\n\u001b[1;32m    184\u001b[0m check_X_params \u001b[39m=\u001b[39m \u001b[39mdict\u001b[39m(dtype\u001b[39m=\u001b[39mDTYPE, accept_sparse\u001b[39m=\u001b[39m\u001b[39m\"\u001b[39m\u001b[39mcsc\u001b[39m\u001b[39m\"\u001b[39m)\n\u001b[1;32m    185\u001b[0m check_y_params \u001b[39m=\u001b[39m \u001b[39mdict\u001b[39m(ensure_2d\u001b[39m=\u001b[39m\u001b[39mFalse\u001b[39;00m, dtype\u001b[39m=\u001b[39m\u001b[39mNone\u001b[39;00m)\n\u001b[0;32m--> 186\u001b[0m X, y \u001b[39m=\u001b[39m \u001b[39mself\u001b[39;49m\u001b[39m.\u001b[39;49m_validate_data(\n\u001b[1;32m    187\u001b[0m     X, y, validate_separately\u001b[39m=\u001b[39;49m(check_X_params, check_y_params)\n\u001b[1;32m    188\u001b[0m )\n\u001b[1;32m    189\u001b[0m \u001b[39mif\u001b[39;00m issparse(X):\n\u001b[1;32m    190\u001b[0m     X\u001b[39m.\u001b[39msort_indices()\n",
      "File \u001b[0;32m~/.local/share/virtualenvs/feature-extration-hVrao3f-/lib/python3.9/site-packages/sklearn/base.py:579\u001b[0m, in \u001b[0;36mBaseEstimator._validate_data\u001b[0;34m(self, X, y, reset, validate_separately, **check_params)\u001b[0m\n\u001b[1;32m    577\u001b[0m \u001b[39mif\u001b[39;00m \u001b[39m\"\u001b[39m\u001b[39mestimator\u001b[39m\u001b[39m\"\u001b[39m \u001b[39mnot\u001b[39;00m \u001b[39min\u001b[39;00m check_X_params:\n\u001b[1;32m    578\u001b[0m     check_X_params \u001b[39m=\u001b[39m {\u001b[39m*\u001b[39m\u001b[39m*\u001b[39mdefault_check_params, \u001b[39m*\u001b[39m\u001b[39m*\u001b[39mcheck_X_params}\n\u001b[0;32m--> 579\u001b[0m X \u001b[39m=\u001b[39m check_array(X, input_name\u001b[39m=\u001b[39;49m\u001b[39m\"\u001b[39;49m\u001b[39mX\u001b[39;49m\u001b[39m\"\u001b[39;49m, \u001b[39m*\u001b[39;49m\u001b[39m*\u001b[39;49mcheck_X_params)\n\u001b[1;32m    580\u001b[0m \u001b[39mif\u001b[39;00m \u001b[39m\"\u001b[39m\u001b[39mestimator\u001b[39m\u001b[39m\"\u001b[39m \u001b[39mnot\u001b[39;00m \u001b[39min\u001b[39;00m check_y_params:\n\u001b[1;32m    581\u001b[0m     check_y_params \u001b[39m=\u001b[39m {\u001b[39m*\u001b[39m\u001b[39m*\u001b[39mdefault_check_params, \u001b[39m*\u001b[39m\u001b[39m*\u001b[39mcheck_y_params}\n",
      "File \u001b[0;32m~/.local/share/virtualenvs/feature-extration-hVrao3f-/lib/python3.9/site-packages/sklearn/utils/validation.py:879\u001b[0m, in \u001b[0;36mcheck_array\u001b[0;34m(array, accept_sparse, accept_large_sparse, dtype, order, copy, force_all_finite, ensure_2d, allow_nd, ensure_min_samples, ensure_min_features, estimator, input_name)\u001b[0m\n\u001b[1;32m    877\u001b[0m         array \u001b[39m=\u001b[39m xp\u001b[39m.\u001b[39mastype(array, dtype, copy\u001b[39m=\u001b[39m\u001b[39mFalse\u001b[39;00m)\n\u001b[1;32m    878\u001b[0m     \u001b[39melse\u001b[39;00m:\n\u001b[0;32m--> 879\u001b[0m         array \u001b[39m=\u001b[39m _asarray_with_order(array, order\u001b[39m=\u001b[39;49morder, dtype\u001b[39m=\u001b[39;49mdtype, xp\u001b[39m=\u001b[39;49mxp)\n\u001b[1;32m    880\u001b[0m \u001b[39mexcept\u001b[39;00m ComplexWarning \u001b[39mas\u001b[39;00m complex_warning:\n\u001b[1;32m    881\u001b[0m     \u001b[39mraise\u001b[39;00m \u001b[39mValueError\u001b[39;00m(\n\u001b[1;32m    882\u001b[0m         \u001b[39m\"\u001b[39m\u001b[39mComplex data not supported\u001b[39m\u001b[39m\\n\u001b[39;00m\u001b[39m{}\u001b[39;00m\u001b[39m\\n\u001b[39;00m\u001b[39m\"\u001b[39m\u001b[39m.\u001b[39mformat(array)\n\u001b[1;32m    883\u001b[0m     ) \u001b[39mfrom\u001b[39;00m \u001b[39mcomplex_warning\u001b[39;00m\n",
      "File \u001b[0;32m~/.local/share/virtualenvs/feature-extration-hVrao3f-/lib/python3.9/site-packages/sklearn/utils/_array_api.py:185\u001b[0m, in \u001b[0;36m_asarray_with_order\u001b[0;34m(array, dtype, order, copy, xp)\u001b[0m\n\u001b[1;32m    182\u001b[0m     xp, _ \u001b[39m=\u001b[39m get_namespace(array)\n\u001b[1;32m    183\u001b[0m \u001b[39mif\u001b[39;00m xp\u001b[39m.\u001b[39m\u001b[39m__name__\u001b[39m \u001b[39min\u001b[39;00m {\u001b[39m\"\u001b[39m\u001b[39mnumpy\u001b[39m\u001b[39m\"\u001b[39m, \u001b[39m\"\u001b[39m\u001b[39mnumpy.array_api\u001b[39m\u001b[39m\"\u001b[39m}:\n\u001b[1;32m    184\u001b[0m     \u001b[39m# Use NumPy API to support order\u001b[39;00m\n\u001b[0;32m--> 185\u001b[0m     array \u001b[39m=\u001b[39m numpy\u001b[39m.\u001b[39;49masarray(array, order\u001b[39m=\u001b[39;49morder, dtype\u001b[39m=\u001b[39;49mdtype)\n\u001b[1;32m    186\u001b[0m     \u001b[39mreturn\u001b[39;00m xp\u001b[39m.\u001b[39masarray(array, copy\u001b[39m=\u001b[39mcopy)\n\u001b[1;32m    187\u001b[0m \u001b[39melse\u001b[39;00m:\n",
      "\u001b[0;31mKeyboardInterrupt\u001b[0m: "
     ]
    }
   ],
   "source": [
    "for i, dataset in enumerate(datasets):\n",
    "    print(i)\n",
    "    print(datetime.now(pytz.timezone('Asia/Hong_Kong')).strftime('%Y-%m-%d %H:%M:%S'))\n",
    "\n",
    "    load_data(dataset)\n",
    "\n",
    "    print('CountVectorizer()')\n",
    "\n",
    "    split_dataset(X, y)\n",
    "    extract_feature(CountVectorizer(), X)\n",
    "    useAllClassifier()\n"
   ]
  },
  {
   "cell_type": "code",
   "execution_count": 9,
   "metadata": {},
   "outputs": [
    {
     "name": "stdout",
     "output_type": "stream",
     "text": [
      "0\n",
      "2023-06-27 20:50:27\n",
      "..\\dataset\\best_dataset.csv\n",
      "TfidfVectorizer()\n",
      "(23082, 42852)\n",
      "(6628, 42852)\n",
      "(3265, 42852)\n",
      "AdaBoostClassifier(random_state=0)\n",
      "0.9367833433916717\n",
      "0.9359877488514549\n",
      "AdaBoostClassifier(n_estimators=100, random_state=0)\n",
      "0.9518708509354254\n",
      "0.9503828483920368\n",
      "AdaBoostClassifier(n_estimators=150, random_state=0)\n",
      "0.9580567290283645\n",
      "0.9595712098009188\n",
      "DecisionTreeClassifier(random_state=0)\n",
      "0.944176222088111\n",
      "0.9491577335375191\n",
      "DecisionTreeRegressor(random_state=0)\n",
      "Something went wrong...\n",
      "<class 'ValueError'>\n",
      "(\"Classification metrics can't handle a mix of binary and continuous targets\",)\n",
      "Classification metrics can't handle a mix of binary and continuous targets\n",
      "GaussianNB()\n",
      "0.9429692214846107\n",
      "0.9399693721286371\n",
      "GradientBoostingClassifier(random_state=0)\n",
      "0.9266747133373566\n",
      "0.9252679938744257\n",
      "GradientBoostingClassifier(learning_rate=0.25, random_state=0)\n",
      "0.9447797223898612\n",
      "0.9430321592649311\n",
      "GradientBoostingClassifier(learning_rate=0.5, random_state=0)\n",
      "0.9532287266143633\n",
      "0.9506891271056661\n",
      "GradientBoostingClassifier(learning_rate=0.75, random_state=0)\n",
      "0.9518708509354254\n",
      "0.9503828483920368\n",
      "GradientBoostingClassifier(learning_rate=1.0, random_state=0)\n",
      "0.95036210018105\n",
      "0.9479326186830015\n",
      "KMeans(n_clusters=2, n_init='auto', random_state=0)\n",
      "0.6861798430899215\n",
      "0.6814701378254211\n",
      "KNeighborsClassifier(n_neighbors=3)\n",
      "0.6486119493059747\n",
      "0.6480857580398163\n",
      "KNeighborsClassifier()\n",
      "0.6154194327097163\n",
      "0.62052067381317\n",
      "LogisticRegression(random_state=0)\n",
      "0.9817441158720579\n",
      "0.9803981623277183\n",
      "MultinomialNB()\n",
      "0.97978273989137\n",
      "0.9742725880551302\n",
      "RandomForestClassifier(n_estimators=10, random_state=0)\n",
      "0.9639408569704285\n",
      "0.9669218989280245\n",
      "RandomForestClassifier(n_estimators=50, random_state=0)\n",
      "0.9668074834037417\n",
      "0.9709035222052067\n",
      "RandomForestClassifier(random_state=0)\n",
      "0.9683162341581171\n",
      "0.9721286370597243\n",
      "SGDClassifier()\n",
      "0.984007242003621\n",
      "0.9843797856049005\n"
     ]
    }
   ],
   "source": [
    "for i, dataset in enumerate(datasets):\n",
    "    print(i)\n",
    "    print(datetime.now(pytz.timezone('Asia/Hong_Kong')).strftime('%Y-%m-%d %H:%M:%S'))\n",
    "\n",
    "    load_data(dataset)\n",
    "\n",
    "    print('TfidfVectorizer()')\n",
    "\n",
    "    split_dataset(X, y)\n",
    "    extract_feature(TfidfVectorizer(), X)\n",
    "    useAllClassifier()\n"
   ]
  },
  {
   "cell_type": "code",
   "execution_count": 9,
   "metadata": {},
   "outputs": [
    {
     "name": "stdout",
     "output_type": "stream",
     "text": [
      "0\n",
      "2023-07-15 16:02:12\n",
      "../dataset/best_dataset.csv\n",
      "HashingVectorizer(n_features=50000)\n",
      "(23082, 50000)\n",
      "(6628, 50000)\n",
      "(3265, 50000)\n",
      "AdaBoostClassifier(random_state=0)\n"
     ]
    }
   ],
   "source": [
    "for i, dataset in enumerate(datasets):\n",
    "    print(i)\n",
    "    print(datetime.now(pytz.timezone('Asia/Hong_Kong')).strftime('%Y-%m-%d %H:%M:%S'))\n",
    "\n",
    "    load_data(dataset)\n",
    "\n",
    "    print('HashingVectorizer(n_features=50000)')\n",
    "\n",
    "    split_dataset(X, y)\n",
    "    extract_feature(HashingVectorizer(n_features=50000), X)\n",
    "    useAllClassifier()\n"
   ]
  },
  {
   "cell_type": "code",
   "execution_count": 8,
   "metadata": {},
   "outputs": [],
   "source": [
    "# Plot confusion matrix and graph\n",
    "def plot_confusion_matrix(y, y_pred, type, target_names = ['Ham', 'Spam']):\n",
    "    print('Confusion matrix - ' + type)\n",
    "    print(classification_report(y, y_pred, target_names=target_names))\n",
    "\n",
    "    # Plot the confusion matrix\n",
    "    cm = confusion_matrix(y, y_pred)\n",
    "    plt.figure(figsize=(8, 6))\n",
    "    sns.heatmap(cm, annot=True, fmt='d', cmap='Blues', xticklabels=target_names, yticklabels=target_names)\n",
    "    plt.xlabel('Predicted')\n",
    "    plt.ylabel('True')\n",
    "    plt.title('Confusion Matrix - ' + type)\n",
    "    plt.show()"
   ]
  },
  {
   "cell_type": "code",
   "execution_count": 9,
   "metadata": {},
   "outputs": [],
   "source": [
    "# Check confusion matrix given dataset and model\n",
    "# According to interim report, Multinomial NB is best, evaluate confusion\n",
    "def evaluateDatasetConfusionMatrix(dataset, model):\n",
    "    resetGlobalVar()\n",
    "    load_data(dataset)\n",
    "    split_dataset(X, y)\n",
    "    extract_feature(HashingVectorizer(n_features=50000), X)\n",
    "    # Retrain model\n",
    "    model.fit(X_train, y_train)\n",
    "    y_val_pred = (model.predict(X_val) > 0.5).astype(\"int32\")\n",
    "    y_test_pred = (model.predict(X_test) > 0.5).astype(\"int32\")\n",
    "    plot_confusion_matrix(y_val, y_val_pred, 'Validation')\n",
    "    plot_confusion_matrix(y_test, y_test_pred, 'Testing')"
   ]
  },
  {
   "cell_type": "code",
   "execution_count": 11,
   "metadata": {},
   "outputs": [
    {
     "name": "stdout",
     "output_type": "stream",
     "text": [
      "../dataset/best_dataset.csv\n",
      "(23082, 50000)\n",
      "(6628, 50000)\n",
      "(3265, 50000)\n",
      "Confusion matrix - Validation\n",
      "              precision    recall  f1-score   support\n",
      "\n",
      "         Ham       0.97      0.99      0.98      3093\n",
      "        Spam       0.99      0.98      0.98      3535\n",
      "\n",
      "    accuracy                           0.98      6628\n",
      "   macro avg       0.98      0.98      0.98      6628\n",
      "weighted avg       0.98      0.98      0.98      6628\n",
      "\n"
     ]
    },
    {
     "data": {
      "image/png": "[encoded data removed]",
      "text/plain": [
       "<Figure size 800x600 with 2 Axes>"
      ]
     },
     "metadata": {},
     "output_type": "display_data"
    },
    {
     "name": "stdout",
     "output_type": "stream",
     "text": [
      "Confusion matrix - Testing\n",
      "              precision    recall  f1-score   support\n",
      "\n",
      "         Ham       0.98      0.98      0.98      1490\n",
      "        Spam       0.98      0.98      0.98      1775\n",
      "\n",
      "    accuracy                           0.98      3265\n",
      "   macro avg       0.98      0.98      0.98      3265\n",
      "weighted avg       0.98      0.98      0.98      3265\n",
      "\n"
     ]
    },
    {
     "data": {
      "image/png": "[encoded data removed]",
      "text/plain": [
       "<Figure size 800x600 with 2 Axes>"
      ]
     },
     "metadata": {},
     "output_type": "display_data"
    }
   ],
   "source": [
    "# Evaluate confusion for one of the model, this function retrain the model since classifier is not kept\n",
    "evaluateDatasetConfusionMatrix('../dataset/best_dataset.csv' ,SGDClassifier(max_iter=1000, tol=1e-3))"
   ]
  },
  {
   "cell_type": "code",
   "execution_count": null,
   "metadata": {},
   "outputs": [],
   "source": []
  }
 ],
 "metadata": {
  "kernelspec": {
   "display_name": "Python 3 (ipykernel)",
   "language": "python",
   "name": "python3"
  },
  "language_info": {
   "codemirror_mode": {
    "name": "ipython",
    "version": 3
   },
   "file_extension": ".py",
   "mimetype": "text/x-python",
   "name": "python",
   "nbconvert_exporter": "python",
   "pygments_lexer": "ipython3",
   "version": "3.9.12"
  },
  "vscode": {
   "interpreter": {
    "hash": "87dc40f78584ad215daf1a34029e7534cfef3110b38cfe89103d23fe1936177c"
   }
  }
 },
 "nbformat": 4,
 "nbformat_minor": 4
}
