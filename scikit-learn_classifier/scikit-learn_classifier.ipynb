{
 "cells": [
  {
   "cell_type": "code",
   "execution_count": null,
   "metadata": {},
   "outputs": [],
   "source": [
    "# Import required libraries\n",
    "import pandas as pd\n",
    "import matplotlib.pyplot as plt\n",
    "from pathlib import Path\n",
    "from sklearn.model_selection import train_test_split\n",
    "from sklearn.feature_extraction.text import CountVectorizer, TfidfVectorizer, HashingVectorizer\n",
    "from sklearn.cluster import KMeans\n",
    "from sklearn.ensemble import AdaBoostClassifier, GradientBoostingClassifier, RandomForestClassifier\n",
    "from sklearn.linear_model import LogisticRegression, SGDClassifier\n",
    "from sklearn.naive_bayes import GaussianNB, MultinomialNB\n",
    "from sklearn.neighbors import KNeighborsClassifier\n",
    "from sklearn.tree import DecisionTreeClassifier, DecisionTreeRegressor\n",
    "from sklearn.metrics import accuracy_score\n",
    "from datetime import datetime\n",
    "import pytz\n",
    "import gc\n"
   ]
  },
  {
   "cell_type": "code",
   "execution_count": null,
   "metadata": {},
   "outputs": [],
   "source": [
    "# Define list of dataset\n",
    "dir = '../dataset/'\n",
    "datasets = [file for file in Path(dir).glob('*.csv') if file.name == 'best_dataset.csv']\n",
    "\n",
    "datasets\n"
   ]
  },
  {
   "cell_type": "code",
   "execution_count": null,
   "metadata": {},
   "outputs": [],
   "source": [
    "# Helper function to load data\n",
    "def load_data(filename):\n",
    "    print(filename)\n",
    "\n",
    "    df = pd.read_csv(filename, header=None, encoding='utf-8').dropna()\n",
    "    df.columns = ['label', 'data']\n",
    "\n",
    "    global X, y\n",
    "\n",
    "    X = df['data']\n",
    "    y = df['label']\n"
   ]
  },
  {
   "cell_type": "code",
   "execution_count": null,
   "metadata": {},
   "outputs": [],
   "source": [
    "# Helper function to create train val test split\n",
    "def split_dataset(X, y):\n",
    "    global X_train, y_train, X_val, y_val, X_test, y_test\n",
    "\n",
    "    # train 7 : val 2 : test 1\n",
    "    X_train, X_val, y_train, y_val = train_test_split(X, y, test_size=0.3, random_state=7)\n",
    "    X_val, X_test, y_val, y_test = train_test_split(X_val, y_val, test_size=0.33, random_state=7)\n"
   ]
  },
  {
   "cell_type": "code",
   "execution_count": null,
   "metadata": {},
   "outputs": [],
   "source": [
    "# Helper function to extract feature\n",
    "def extract_feature(vectorizer, X):\n",
    "    vectorizer.fit(X)\n",
    "\n",
    "    global X_train, X_val, X_test\n",
    "\n",
    "    X_train = vectorizer.transform(X_train).toarray()\n",
    "    X_val = vectorizer.transform(X_val).toarray()\n",
    "    X_test = vectorizer.transform(X_test).toarray()\n",
    "\n",
    "    print(X_train.shape)\n",
    "    print(X_val.shape)\n",
    "    print(X_test.shape)\n"
   ]
  },
  {
   "cell_type": "code",
   "execution_count": null,
   "metadata": {},
   "outputs": [],
   "source": [
    "def useClassifier(classifier):\n",
    "    try:\n",
    "        print(classifier)\n",
    "\n",
    "        classifier.fit(X_train, y_train)\n",
    "\n",
    "        y_pred = classifier.predict(X_val)\n",
    "        val_accuracy = accuracy_score(y_val, y_pred)\n",
    "\n",
    "        print(val_accuracy)\n",
    "\n",
    "        y_pred = classifier.predict(X_test)\n",
    "        test_accuracy = accuracy_score(y_test, y_pred)\n",
    "\n",
    "        print(test_accuracy)\n",
    "\n",
    "        del classifier\n",
    "\n",
    "        gc.collect()\n",
    "    except Exception as inst:\n",
    "        print('Something went wrong...')\n",
    "        print(type(inst))  # the exception type\n",
    "        print(inst.args)  # arguments stored in .args\n",
    "        print(inst)  # __str__ allows args to be printed directly\n",
    "\n",
    "\n",
    "def useAllClassifier():\n",
    "    useClassifier(AdaBoostClassifier(n_estimators=50, random_state=0))\n",
    "    useClassifier(AdaBoostClassifier(n_estimators=100, random_state=0))\n",
    "    useClassifier(AdaBoostClassifier(n_estimators=150, random_state=0))\n",
    "    useClassifier(DecisionTreeClassifier(random_state=0))\n",
    "    useClassifier(DecisionTreeRegressor(random_state=0))\n",
    "    useClassifier(GaussianNB())\n",
    "    useClassifier(GradientBoostingClassifier(n_estimators=100, learning_rate=0.1, random_state=0))\n",
    "    useClassifier(GradientBoostingClassifier(n_estimators=100, learning_rate=0.25, random_state=0))\n",
    "    useClassifier(GradientBoostingClassifier(n_estimators=100, learning_rate=0.5, random_state=0))\n",
    "    useClassifier(GradientBoostingClassifier(n_estimators=100, learning_rate=0.75, random_state=0))\n",
    "    useClassifier(GradientBoostingClassifier(n_estimators=100, learning_rate=1.0, random_state=0))\n",
    "    useClassifier(KMeans(n_clusters=2, random_state=0, n_init='auto'))\n",
    "    useClassifier(KNeighborsClassifier(n_neighbors=3))\n",
    "    useClassifier(KNeighborsClassifier(n_neighbors=5))\n",
    "    useClassifier(LogisticRegression(random_state=0))\n",
    "    useClassifier(MultinomialNB())\n",
    "    useClassifier(RandomForestClassifier(n_estimators=10, random_state=0))\n",
    "    useClassifier(RandomForestClassifier(n_estimators=50, random_state=0))\n",
    "    useClassifier(RandomForestClassifier(n_estimators=100, random_state=0))\n",
    "    useClassifier(SGDClassifier(max_iter=1000, tol=1e-3))\n"
   ]
  },
  {
   "cell_type": "code",
   "execution_count": null,
   "metadata": {},
   "outputs": [],
   "source": [
    "X = None\n",
    "y = None\n",
    "X_train = None\n",
    "y_train = None\n",
    "X_val = None\n",
    "y_val = None\n",
    "X_test = None\n",
    "y_test = None\n"
   ]
  },
  {
   "cell_type": "code",
   "execution_count": null,
   "metadata": {},
   "outputs": [],
   "source": [
    "for i, dataset in enumerate(datasets):\n",
    "    print(i)\n",
    "    print(datetime.now(pytz.timezone('Asia/Hong_Kong')).strftime('%Y-%m-%d %H:%M:%S'))\n",
    "\n",
    "    load_data(dataset)\n",
    "\n",
    "    print('CountVectorizer()')\n",
    "\n",
    "    split_dataset(X, y)\n",
    "    extract_feature(CountVectorizer(), X)\n",
    "    useAllClassifier()\n"
   ]
  },
  {
   "cell_type": "code",
   "execution_count": null,
   "metadata": {},
   "outputs": [],
   "source": [
    "for i, dataset in enumerate(datasets):\n",
    "    print(i)\n",
    "    print(datetime.now(pytz.timezone('Asia/Hong_Kong')).strftime('%Y-%m-%d %H:%M:%S'))\n",
    "\n",
    "    load_data(dataset)\n",
    "\n",
    "    print('TfidfVectorizer()')\n",
    "\n",
    "    split_dataset(X, y)\n",
    "    extract_feature(TfidfVectorizer(), X)\n",
    "    useAllClassifier()\n"
   ]
  },
  {
   "cell_type": "code",
   "execution_count": null,
   "metadata": {},
   "outputs": [],
   "source": [
    "for i, dataset in enumerate(datasets):\n",
    "    print(i)\n",
    "    print(datetime.now(pytz.timezone('Asia/Hong_Kong')).strftime('%Y-%m-%d %H:%M:%S'))\n",
    "\n",
    "    load_data(dataset)\n",
    "\n",
    "    print('HashingVectorizer(n_features=50000)')\n",
    "\n",
    "    split_dataset(X, y)\n",
    "    extract_feature(HashingVectorizer(n_features=50000), X)\n",
    "    useAllClassifier()\n"
   ]
  }
 ],
 "metadata": {
  "kernelspec": {
   "display_name": "Python 3 (ipykernel)",
   "language": "python",
   "name": "python3"
  },
  "language_info": {
   "codemirror_mode": {
    "name": "ipython",
    "version": 3
   },
   "file_extension": ".py",
   "mimetype": "text/x-python",
   "name": "python",
   "nbconvert_exporter": "python",
   "pygments_lexer": "ipython3",
   "version": "3.8.16"
  },
  "vscode": {
   "interpreter": {
    "hash": "87dc40f78584ad215daf1a34029e7534cfef3110b38cfe89103d23fe1936177c"
   }
  }
 },
 "nbformat": 4,
 "nbformat_minor": 4
}
