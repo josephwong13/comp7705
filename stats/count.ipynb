{
 "cells": [
  {
   "cell_type": "code",
   "execution_count": 1,
   "metadata": {},
   "outputs": [
    {
     "data": {
      "text/plain": [
       "[WindowsPath('best/X_test.csv'),\n",
       " WindowsPath('best/X_train.csv'),\n",
       " WindowsPath('best/X_val.csv')]"
      ]
     },
     "execution_count": 1,
     "metadata": {},
     "output_type": "execute_result"
    }
   ],
   "source": [
    "import re\n",
    "from pathlib import Path\n",
    "\n",
    "# Define list of dataset\n",
    "dir = './best/'\n",
    "datasets = [file for file in Path(dir).glob('*.csv') if file.name.startswith('X_')]\n",
    "\n",
    "datasets\n"
   ]
  },
  {
   "cell_type": "code",
   "execution_count": 2,
   "metadata": {},
   "outputs": [],
   "source": [
    "class Count:\n",
    "    def __init__(self):\n",
    "        self.total = 0\n",
    "        self.e_spam = 0\n",
    "        self.e_ham = 0\n",
    "        self.c_spam = 0\n",
    "        self.c_ham = 0\n",
    "\n",
    "    def __str__(self):\n",
    "        str = f'total: {self.total}, e_spam: {self.e_spam}, e_ham: {self.e_ham}, c_spam: {self.c_spam}, c_ham: {self.c_ham}, '\n",
    "        str += f'e: {self.e_spam+  self.e_ham}, c: {self.c_spam + self.c_ham}, spam: {self.e_spam + self.c_spam}, ham: {self.e_ham + self.c_ham}'\n",
    "\n",
    "        return str\n",
    "\n",
    "    def add(self, is_e, is_spam):\n",
    "        self.total += 1\n",
    "\n",
    "        if (is_e):\n",
    "            if (is_spam):\n",
    "                self.e_spam += 1\n",
    "            else:\n",
    "                self.e_ham += 1\n",
    "        else:\n",
    "            if (is_spam):\n",
    "                self.c_spam += 1\n",
    "            else:\n",
    "                self.c_ham += 1\n"
   ]
  },
  {
   "cell_type": "code",
   "execution_count": 3,
   "metadata": {},
   "outputs": [
    {
     "name": "stdout",
     "output_type": "stream",
     "text": [
      "best\\X_test.csv\n",
      "best\\y_test.csv\n",
      "best\\X_train.csv\n",
      "best\\y_train.csv\n",
      "best\\X_val.csv\n",
      "best\\y_val.csv\n"
     ]
    }
   ],
   "source": [
    "pattern = re.compile('[\\u4E00-\\u9FFF]+')\n",
    "total = Count()\n",
    "train = Count()\n",
    "val = Count()\n",
    "test = Count()\n",
    "\n",
    "for x_dataset in datasets:\n",
    "    y_dataset = str(x_dataset).replace('X_', 'y_')\n",
    "\n",
    "    print(x_dataset)\n",
    "    print(y_dataset)\n",
    "\n",
    "    with open(x_dataset, 'r') as x_lines, open(y_dataset, 'r') as y_lines:\n",
    "        for i, x_line in enumerate(x_lines):\n",
    "            y_line = y_lines.readline().strip()\n",
    "\n",
    "            if x_line.strip():\n",
    "                is_e = False if re.search(pattern, x_line) else True\n",
    "                is_spam = False if y_line == '0' else True\n",
    "\n",
    "                total.add(is_e, is_spam)\n",
    "\n",
    "                if 'train' in str(x_dataset):\n",
    "                    train.add(is_e, is_spam)\n",
    "                elif 'val' in str(x_dataset):\n",
    "                    val.add(is_e, is_spam)\n",
    "                elif 'test' in str(x_dataset):\n",
    "                    test.add(is_e, is_spam)\n"
   ]
  },
  {
   "cell_type": "code",
   "execution_count": 4,
   "metadata": {},
   "outputs": [
    {
     "name": "stdout",
     "output_type": "stream",
     "text": [
      "total: total: 32975, e_spam: 610, e_ham: 4478, c_spam: 16980, c_ham: 10907, e: 5088, c: 27887, spam: 17590, ham: 15385\n",
      "train: total: 23082, e_spam: 432, e_ham: 3196, c_spam: 11848, c_ham: 7606, e: 3628, c: 19454, spam: 12280, ham: 10802\n",
      "val: total: 6628, e_spam: 117, e_ham: 871, c_spam: 3418, c_ham: 2222, e: 988, c: 5640, spam: 3535, ham: 3093\n",
      "test: total: 3265, e_spam: 61, e_ham: 411, c_spam: 1714, c_ham: 1079, e: 472, c: 2793, spam: 1775, ham: 1490\n"
     ]
    }
   ],
   "source": [
    "print(f'total: {total}')\n",
    "print(f'train: {train}')\n",
    "print(f'val: {val}')\n",
    "print(f'test: {test}')\n"
   ]
  }
 ],
 "metadata": {
  "kernelspec": {
   "display_name": "default",
   "language": "python",
   "name": "python3"
  },
  "language_info": {
   "codemirror_mode": {
    "name": "ipython",
    "version": 3
   },
   "file_extension": ".py",
   "mimetype": "text/x-python",
   "name": "python",
   "nbconvert_exporter": "python",
   "pygments_lexer": "ipython3",
   "version": "3.8.16"
  },
  "orig_nbformat": 4
 },
 "nbformat": 4,
 "nbformat_minor": 2
}
