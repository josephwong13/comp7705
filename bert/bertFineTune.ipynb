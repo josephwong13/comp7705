{
 "cells": [
  {
   "cell_type": "code",
   "execution_count": 1,
   "metadata": {
    "tags": []
   },
   "outputs": [
    {
     "name": "stderr",
     "output_type": "stream",
     "text": [
      "2023-07-27 19:53:49.675341: I tensorflow/core/platform/cpu_feature_guard.cc:193] This TensorFlow binary is optimized with oneAPI Deep Neural Network Library (oneDNN) to use the following CPU instructions in performance-critical operations:  AVX2 AVX512F FMA\n",
      "To enable them in other operations, rebuild TensorFlow with the appropriate compiler flags.\n"
     ]
    }
   ],
   "source": [
    "# Reference: https://www.tensorflow.org/text/tutorials/classify_text_with_bert\n",
    "import pandas as pd\n",
    "import seaborn as sns\n",
    "\n",
    "from sklearn.model_selection import train_test_split\n",
    "from sklearn.metrics import classification_report, confusion_matrix\n",
    "\n",
    "import os\n",
    "import shutil\n",
    "\n",
    "import tensorflow as tf\n",
    "import tensorflow_hub as hub\n",
    "import tensorflow_text as text\n",
    "from official.nlp import optimization  # to create AdamW optimizer\n",
    "from keras.models import load_model\n",
    "\n",
    "import matplotlib.pyplot as plt\n",
    "\n",
    "tf.get_logger().setLevel('ERROR')"
   ]
  },
  {
   "cell_type": "code",
   "execution_count": 2,
   "metadata": {
    "tags": []
   },
   "outputs": [
    {
     "data": {
      "application/javascript": [
       "IPython.notebook.set_autosave_interval(5000)"
      ]
     },
     "metadata": {},
     "output_type": "display_data"
    },
    {
     "name": "stdout",
     "output_type": "stream",
     "text": [
      "Autosaving every 5 seconds\n"
     ]
    }
   ],
   "source": [
    "# For saving result to tempoary file\n",
    "import sys\n",
    "import logging\n",
    "\n",
    "nblog = open(\"nb.log\", \"a+\")\n",
    "sys.stdout.echo = nblog\n",
    "sys.stderr.echo = nblog\n",
    "\n",
    "get_ipython().log.handlers[0].stream = nblog\n",
    "get_ipython().log.setLevel(logging.INFO)\n",
    "\n",
    "%autosave 5"
   ]
  },
  {
   "cell_type": "code",
   "execution_count": 3,
   "metadata": {
    "tags": []
   },
   "outputs": [
    {
     "name": "stdout",
     "output_type": "stream",
     "text": [
      "Num GPUs Available:  1\n"
     ]
    },
    {
     "name": "stderr",
     "output_type": "stream",
     "text": [
      "2023-07-27 19:54:06.456018: I tensorflow/compiler/xla/stream_executor/cuda/cuda_gpu_executor.cc:981] successful NUMA node read from SysFS had negative value (-1), but there must be at least one NUMA node, so returning NUMA node zero\n"
     ]
    }
   ],
   "source": [
    "print(\"Num GPUs Available: \", len(tf.config.list_physical_devices('GPU')))"
   ]
  },
  {
   "cell_type": "code",
   "execution_count": 4,
   "metadata": {
    "tags": []
   },
   "outputs": [
    {
     "name": "stdout",
     "output_type": "stream",
     "text": [
      "BERT model selected           : https://tfhub.dev/tensorflow/small_bert/bert_en_uncased_L-2_H-512_A-8/1\n",
      "Preprocess model auto-selected: https://tfhub.dev/tensorflow/bert_en_uncased_preprocess/3\n"
     ]
    }
   ],
   "source": [
    "# Get BERT model\n",
    "bert_model_name = 'small_bert/bert_en_uncased_L-2_H-512_A-8' \n",
    "\n",
    "map_name_to_handle = {\n",
    "    'small_bert/bert_en_uncased_L-2_H-128_A-2':\n",
    "        'https://tfhub.dev/tensorflow/small_bert/bert_en_uncased_L-2_H-128_A-2/1',\n",
    "    'small_bert/bert_en_uncased_L-2_H-256_A-4':\n",
    "        'https://tfhub.dev/tensorflow/small_bert/bert_en_uncased_L-2_H-256_A-4/1',\n",
    "    'small_bert/bert_en_uncased_L-2_H-512_A-8':\n",
    "        'https://tfhub.dev/tensorflow/small_bert/bert_en_uncased_L-2_H-512_A-8/1',\n",
    "    'small_bert/bert_en_uncased_L-2_H-768_A-12':\n",
    "        'https://tfhub.dev/tensorflow/small_bert/bert_en_uncased_L-2_H-768_A-12/1',\n",
    "    'small_bert/bert_en_uncased_L-4_H-128_A-2':\n",
    "        'https://tfhub.dev/tensorflow/small_bert/bert_en_uncased_L-4_H-128_A-2/1',\n",
    "    'small_bert/bert_en_uncased_L-4_H-256_A-4':\n",
    "        'https://tfhub.dev/tensorflow/small_bert/bert_en_uncased_L-4_H-256_A-4/1',\n",
    "    'small_bert/bert_en_uncased_L-4_H-512_A-8':\n",
    "        'https://tfhub.dev/tensorflow/small_bert/bert_en_uncased_L-4_H-512_A-8/1',\n",
    "    'small_bert/bert_en_uncased_L-4_H-768_A-12':\n",
    "        'https://tfhub.dev/tensorflow/small_bert/bert_en_uncased_L-4_H-768_A-12/1',\n",
    "    'small_bert/bert_en_uncased_L-6_H-128_A-2':\n",
    "        'https://tfhub.dev/tensorflow/small_bert/bert_en_uncased_L-6_H-128_A-2/1',\n",
    "    'small_bert/bert_en_uncased_L-6_H-256_A-4':\n",
    "        'https://tfhub.dev/tensorflow/small_bert/bert_en_uncased_L-6_H-256_A-4/1',\n",
    "    'small_bert/bert_en_uncased_L-6_H-512_A-8':\n",
    "        'https://tfhub.dev/tensorflow/small_bert/bert_en_uncased_L-6_H-512_A-8/1',\n",
    "    'small_bert/bert_en_uncased_L-6_H-768_A-12':\n",
    "        'https://tfhub.dev/tensorflow/small_bert/bert_en_uncased_L-6_H-768_A-12/1',\n",
    "    'small_bert/bert_en_uncased_L-8_H-128_A-2':\n",
    "        'https://tfhub.dev/tensorflow/small_bert/bert_en_uncased_L-8_H-128_A-2/1',\n",
    "    'small_bert/bert_en_uncased_L-8_H-256_A-4':\n",
    "        'https://tfhub.dev/tensorflow/small_bert/bert_en_uncased_L-8_H-256_A-4/1',\n",
    "    'small_bert/bert_en_uncased_L-8_H-512_A-8':\n",
    "        'https://tfhub.dev/tensorflow/small_bert/bert_en_uncased_L-8_H-512_A-8/1',\n",
    "    'small_bert/bert_en_uncased_L-8_H-768_A-12':\n",
    "        'https://tfhub.dev/tensorflow/small_bert/bert_en_uncased_L-8_H-768_A-12/1',\n",
    "    'small_bert/bert_en_uncased_L-10_H-128_A-2':\n",
    "        'https://tfhub.dev/tensorflow/small_bert/bert_en_uncased_L-10_H-128_A-2/1',\n",
    "    'small_bert/bert_en_uncased_L-10_H-256_A-4':\n",
    "        'https://tfhub.dev/tensorflow/small_bert/bert_en_uncased_L-10_H-256_A-4/1',\n",
    "    'small_bert/bert_en_uncased_L-10_H-512_A-8':\n",
    "        'https://tfhub.dev/tensorflow/small_bert/bert_en_uncased_L-10_H-512_A-8/1',\n",
    "    'small_bert/bert_en_uncased_L-10_H-768_A-12':\n",
    "        'https://tfhub.dev/tensorflow/small_bert/bert_en_uncased_L-10_H-768_A-12/1',\n",
    "    'small_bert/bert_en_uncased_L-12_H-128_A-2':\n",
    "        'https://tfhub.dev/tensorflow/small_bert/bert_en_uncased_L-12_H-128_A-2/1',\n",
    "    'small_bert/bert_en_uncased_L-12_H-256_A-4':\n",
    "        'https://tfhub.dev/tensorflow/small_bert/bert_en_uncased_L-12_H-256_A-4/1',\n",
    "    'small_bert/bert_en_uncased_L-12_H-512_A-8':\n",
    "        'https://tfhub.dev/tensorflow/small_bert/bert_en_uncased_L-12_H-512_A-8/1',\n",
    "    'small_bert/bert_en_uncased_L-12_H-768_A-12':\n",
    "        'https://tfhub.dev/tensorflow/small_bert/bert_en_uncased_L-12_H-768_A-12/1',\n",
    "    'albert_en_base':\n",
    "        'https://tfhub.dev/tensorflow/albert_en_base/2',\n",
    "    'talking-heads_base':\n",
    "        'https://tfhub.dev/tensorflow/talkheads_ggelu_bert_en_base/1'\n",
    "}\n",
    "\n",
    "map_model_to_preprocess = {\n",
    "    'small_bert/bert_en_uncased_L-2_H-128_A-2':\n",
    "        'https://tfhub.dev/tensorflow/bert_en_uncased_preprocess/3',\n",
    "    'small_bert/bert_en_uncased_L-2_H-256_A-4':\n",
    "        'https://tfhub.dev/tensorflow/bert_en_uncased_preprocess/3',\n",
    "    'small_bert/bert_en_uncased_L-2_H-512_A-8':\n",
    "        'https://tfhub.dev/tensorflow/bert_en_uncased_preprocess/3',\n",
    "    'small_bert/bert_en_uncased_L-2_H-768_A-12':\n",
    "        'https://tfhub.dev/tensorflow/bert_en_uncased_preprocess/3',\n",
    "    'small_bert/bert_en_uncased_L-4_H-128_A-2':\n",
    "        'https://tfhub.dev/tensorflow/bert_en_uncased_preprocess/3',\n",
    "    'small_bert/bert_en_uncased_L-4_H-256_A-4':\n",
    "        'https://tfhub.dev/tensorflow/bert_en_uncased_preprocess/3',\n",
    "    'small_bert/bert_en_uncased_L-4_H-512_A-8':\n",
    "        'https://tfhub.dev/tensorflow/bert_en_uncased_preprocess/3',\n",
    "    'small_bert/bert_en_uncased_L-4_H-768_A-12':\n",
    "        'https://tfhub.dev/tensorflow/bert_en_uncased_preprocess/3',\n",
    "    'small_bert/bert_en_uncased_L-6_H-128_A-2':\n",
    "        'https://tfhub.dev/tensorflow/bert_en_uncased_preprocess/3',\n",
    "    'small_bert/bert_en_uncased_L-6_H-256_A-4':\n",
    "        'https://tfhub.dev/tensorflow/bert_en_uncased_preprocess/3',\n",
    "    'small_bert/bert_en_uncased_L-6_H-512_A-8':\n",
    "        'https://tfhub.dev/tensorflow/bert_en_uncased_preprocess/3',\n",
    "    'small_bert/bert_en_uncased_L-6_H-768_A-12':\n",
    "        'https://tfhub.dev/tensorflow/bert_en_uncased_preprocess/3',\n",
    "    'small_bert/bert_en_uncased_L-8_H-128_A-2':\n",
    "        'https://tfhub.dev/tensorflow/bert_en_uncased_preprocess/3',\n",
    "    'small_bert/bert_en_uncased_L-8_H-256_A-4':\n",
    "        'https://tfhub.dev/tensorflow/bert_en_uncased_preprocess/3',\n",
    "    'small_bert/bert_en_uncased_L-8_H-512_A-8':\n",
    "        'https://tfhub.dev/tensorflow/bert_en_uncased_preprocess/3',\n",
    "    'small_bert/bert_en_uncased_L-8_H-768_A-12':\n",
    "        'https://tfhub.dev/tensorflow/bert_en_uncased_preprocess/3',\n",
    "    'small_bert/bert_en_uncased_L-10_H-128_A-2':\n",
    "        'https://tfhub.dev/tensorflow/bert_en_uncased_preprocess/3',\n",
    "    'small_bert/bert_en_uncased_L-10_H-256_A-4':\n",
    "        'https://tfhub.dev/tensorflow/bert_en_uncased_preprocess/3',\n",
    "    'small_bert/bert_en_uncased_L-10_H-512_A-8':\n",
    "        'https://tfhub.dev/tensorflow/bert_en_uncased_preprocess/3',\n",
    "    'small_bert/bert_en_uncased_L-10_H-768_A-12':\n",
    "        'https://tfhub.dev/tensorflow/bert_en_uncased_preprocess/3',\n",
    "    'small_bert/bert_en_uncased_L-12_H-128_A-2':\n",
    "        'https://tfhub.dev/tensorflow/bert_en_uncased_preprocess/3',\n",
    "    'small_bert/bert_en_uncased_L-12_H-256_A-4':\n",
    "        'https://tfhub.dev/tensorflow/bert_en_uncased_preprocess/3',\n",
    "    'small_bert/bert_en_uncased_L-12_H-512_A-8':\n",
    "        'https://tfhub.dev/tensorflow/bert_en_uncased_preprocess/3',\n",
    "    'small_bert/bert_en_uncased_L-12_H-768_A-12':\n",
    "        'https://tfhub.dev/tensorflow/bert_en_uncased_preprocess/3',\n",
    "    'albert_en_base':\n",
    "        'https://tfhub.dev/tensorflow/albert_en_preprocess/3',\n",
    "    'talking-heads_base':\n",
    "        'https://tfhub.dev/tensorflow/bert_en_uncased_preprocess/3',\n",
    "}\n",
    "\n",
    "tfhub_handle_encoder = map_name_to_handle[bert_model_name]\n",
    "tfhub_handle_preprocess = map_model_to_preprocess[bert_model_name]\n",
    "\n",
    "print(f'BERT model selected           : {tfhub_handle_encoder}')\n",
    "print(f'Preprocess model auto-selected: {tfhub_handle_preprocess}')"
   ]
  },
  {
   "cell_type": "code",
   "execution_count": 5,
   "metadata": {
    "tags": []
   },
   "outputs": [],
   "source": [
    "# Build the model\n",
    "def build_classifier_model(tfhub_handle_encoder, tfhub_handle_preprocess, dropout = 0.1):    \n",
    "    text_input = tf.keras.layers.Input(shape=(), dtype=tf.string, name='text')\n",
    "    preprocessing_layer = hub.KerasLayer(tfhub_handle_preprocess, name='preprocessing')\n",
    "    encoder_inputs = preprocessing_layer(text_input)\n",
    "\n",
    "    encoder = hub.KerasLayer(tfhub_handle_encoder, trainable=True, name='BERT_encoder')\n",
    "    outputs = encoder(encoder_inputs)\n",
    "    net = outputs['pooled_output']\n",
    "    net = tf.keras.layers.Dropout(dropout)(net)\n",
    "    net = tf.keras.layers.Dense(1, activation=None, name='classifier')(net)\n",
    "    return tf.keras.Model(text_input, net)"
   ]
  },
  {
   "cell_type": "code",
   "execution_count": 6,
   "metadata": {
    "tags": []
   },
   "outputs": [],
   "source": [
    "# Compile the model\n",
    "def compile_model(classifier_model, train_ds, lr = 3e-6, epochs = 5):\n",
    "    # model fine tuning\n",
    "    loss = tf.keras.losses.BinaryCrossentropy(from_logits=True)\n",
    "    metrics = tf.metrics.BinaryAccuracy()\n",
    "\n",
    "    steps_per_epoch = tf.data.experimental.cardinality(train_ds).numpy()\n",
    "    num_train_steps = steps_per_epoch * epochs\n",
    "    num_warmup_steps = int(0.1*num_train_steps)\n",
    "\n",
    "    optimizer = optimization.create_optimizer(init_lr=lr,\n",
    "                                              num_train_steps=num_train_steps,\n",
    "                                              num_warmup_steps=num_warmup_steps,\n",
    "                                              optimizer_type='adamw')\n",
    "\n",
    "    classifier_model.compile(optimizer=optimizer,\n",
    "                             loss=loss,\n",
    "                             metrics=metrics)\n",
    "    return classifier_model"
   ]
  },
  {
   "cell_type": "code",
   "execution_count": 7,
   "metadata": {
    "tags": []
   },
   "outputs": [],
   "source": [
    "# Prepare dataset\n",
    "def prepare_data(dataset):\n",
    "    # Load the dataset\n",
    "    df = pd.read_csv(f'../dataset/{dataset}', encoding='utf-8').dropna()\n",
    "    df.columns = ['label', 'text']\n",
    "    \n",
    "    # # Sample only 20% to test BERT training faster\n",
    "    # df, df_discard = train_test_split(df, test_size=0.99, random_state=7)\n",
    "\n",
    "    # Use sklearn to split the dataset into training, validating and testing\n",
    "    train_df, val_df = train_test_split(df, test_size=0.3, random_state=7)\n",
    "    val_df, test_df = train_test_split(val_df, test_size=0.33, random_state=7)\n",
    "\n",
    "    # Create training dataset\n",
    "    AUTOTUNE = tf.data.AUTOTUNE\n",
    "    batch_size = 8\n",
    "\n",
    "    train_ds = tf.data.Dataset.from_tensor_slices(\n",
    "        (train_df['text'].values, train_df['label'].values)\n",
    "    )\n",
    "    train_ds = train_ds.batch(batch_size).cache().prefetch(buffer_size=AUTOTUNE)\n",
    "\n",
    "    # Create validation dataset\n",
    "    val_ds = tf.data.Dataset.from_tensor_slices(\n",
    "        (val_df['text'].values, val_df['label'].values)\n",
    "    )\n",
    "    val_ds = val_ds.batch(batch_size).cache().prefetch(buffer_size=AUTOTUNE)\n",
    "\n",
    "    # Create testing dataset\n",
    "    test_ds = tf.data.Dataset.from_tensor_slices(\n",
    "        (test_df['text'].values, test_df['label'].values)\n",
    "    )\n",
    "    test_ds = test_ds.batch(batch_size).cache().prefetch(buffer_size=AUTOTUNE)\n",
    "    \n",
    "    return train_ds, val_ds, test_ds\n"
   ]
  },
  {
   "cell_type": "code",
   "execution_count": 8,
   "metadata": {
    "tags": []
   },
   "outputs": [],
   "source": [
    "# Show result\n",
    "def evaluate_model(classifier_model, test_ds):\n",
    "    # Evaluate performance\n",
    "    loss, accuracy = classifier_model.evaluate(test_ds)\n",
    "\n",
    "    print(f'Loss: {loss}')\n",
    "    print(f'Accuracy: {accuracy}')\n",
    "    \n",
    "def show_history(history, shouldSave = False, modelName = ''):\n",
    "    history_dict = history.history\n",
    "    print(history_dict.keys())\n",
    "\n",
    "    acc = history_dict['binary_accuracy']\n",
    "    val_acc = history_dict['val_binary_accuracy']\n",
    "    loss = history_dict['loss']\n",
    "    val_loss = history_dict['val_loss']\n",
    "\n",
    "    epochs = range(1, len(acc) + 1)\n",
    "    fig = plt.figure(figsize=(10, 6))\n",
    "    fig.tight_layout()\n",
    "\n",
    "    plt.subplot(2, 1, 1)\n",
    "    # r is for \"solid red line\"\n",
    "    plt.plot(epochs, loss, 'r', label='Training loss')\n",
    "    # b is for \"solid blue line\"\n",
    "    plt.plot(epochs, val_loss, 'b', label='Validation loss')\n",
    "    plt.title('Training and validation loss')\n",
    "    # plt.xlabel('Epochs')\n",
    "    plt.ylabel('Loss')\n",
    "    plt.legend()\n",
    "\n",
    "    plt.subplot(2, 1, 2)\n",
    "    plt.plot(epochs, acc, 'r', label='Training acc')\n",
    "    plt.plot(epochs, val_acc, 'b', label='Validation acc')\n",
    "    plt.title('Training and validation accuracy')\n",
    "    plt.xlabel('Epochs')\n",
    "    plt.ylabel('Accuracy')\n",
    "    plt.legend(loc='lower right')\n",
    "    \n",
    "    fig.savefig('saved_model/' + modelName + '.png')"
   ]
  },
  {
   "cell_type": "code",
   "execution_count": 9,
   "metadata": {
    "tags": []
   },
   "outputs": [
    {
     "name": "stdout",
     "output_type": "stream",
     "text": [
      "Training for model:  small_bert/bert_en_uncased_L-8_H-512_A-8\n",
      "Epoch 1/7\n",
      "2912/2912 [==============================] - 246s 79ms/step - loss: 0.2775 - binary_accuracy: 0.9021 - val_loss: 0.2162 - val_binary_accuracy: 0.9444\n",
      "Epoch 2/7\n",
      "2912/2912 [==============================] - 246s 84ms/step - loss: 0.1890 - binary_accuracy: 0.9478 - val_loss: 0.2109 - val_binary_accuracy: 0.9528\n",
      "Epoch 3/7\n",
      "2912/2912 [==============================] - 246s 84ms/step - loss: 0.1476 - binary_accuracy: 0.9608 - val_loss: 0.2484 - val_binary_accuracy: 0.9483\n",
      "Epoch 4/7\n",
      "2912/2912 [==============================] - 230s 79ms/step - loss: 0.1198 - binary_accuracy: 0.9686 - val_loss: 0.2246 - val_binary_accuracy: 0.9523\n",
      "Epoch 5/7\n",
      "2912/2912 [==============================] - 245s 84ms/step - loss: 0.0941 - binary_accuracy: 0.9752 - val_loss: 0.2333 - val_binary_accuracy: 0.9549\n",
      "Epoch 6/7\n",
      "2912/2912 [==============================] - 232s 80ms/step - loss: 0.0785 - binary_accuracy: 0.9789 - val_loss: 0.2333 - val_binary_accuracy: 0.9549\n",
      "Epoch 7/7\n",
      "2912/2912 [==============================] - 231s 79ms/step - loss: 0.0798 - binary_accuracy: 0.9781 - val_loss: 0.2333 - val_binary_accuracy: 0.9549\n",
      "Performance for model:  small_bert/bert_en_uncased_L-8_H-512_A-8\n",
      "412/412 [==============================] - 14s 33ms/step - loss: 0.2431 - binary_accuracy: 0.9536\n",
      "Loss: 0.24314069747924805\n",
      "Accuracy: 0.9535660147666931\n",
      "dict_keys(['loss', 'binary_accuracy', 'val_loss', 'val_binary_accuracy'])\n"
     ]
    },
    {
     "name": "stderr",
     "output_type": "stream",
     "text": [
      "WARNING:absl:Found untraced functions such as restored_function_body, restored_function_body, restored_function_body, restored_function_body, restored_function_body while saving (showing 5 of 244). These functions will not be directly callable after loading.\n"
     ]
    },
    {
     "data": {
      "image/png": "[encoded data removed]",
      "text/plain": [
       "<Figure size 1000x600 with 2 Axes>"
      ]
     },
     "metadata": {},
     "output_type": "display_data"
    }
   ],
   "source": [
    "# Best learning rate by experiment is 3e-5\n",
    "\n",
    "models = [\n",
    "    # 'small_bert/bert_en_uncased_L-2_H-128_A-2',\n",
    "    # 'small_bert/bert_en_uncased_L-4_H-256_A-4',\n",
    "    # 'small_bert/bert_en_uncased_L-4_H-512_A-8',\n",
    "    'small_bert/bert_en_uncased_L-8_H-512_A-8',\n",
    "    # 'small_bert/bert_en_uncased_L-10_H-128_A-2',\n",
    "    # 'small_bert/bert_en_uncased_L-12_H-256_A-4',\n",
    "    # 'small_bert/bert_en_uncased_L-12_H-512_A-8'\n",
    "]\n",
    "\n",
    "\n",
    "for modelName in models:\n",
    "    print(\"Training for model: \", modelName)\n",
    "    tfhub_handle_encoder = map_name_to_handle[modelName]\n",
    "    tfhub_handle_preprocess = map_model_to_preprocess[modelName]\n",
    "    model = build_classifier_model(tfhub_handle_encoder, tfhub_handle_preprocess, 0.2)\n",
    "    train_ds, val_ds, test_ds = prepare_data(\"best_dataset.csv\")\n",
    "    classifier_model = compile_model(model, train_ds, 3e-5)\n",
    "    history = classifier_model.fit(x=train_ds,\n",
    "                               validation_data=val_ds,\n",
    "                               epochs=7)\n",
    "    \n",
    "    print(\"Performance for model: \", modelName)\n",
    "    evaluate_model(classifier_model, test_ds)\n",
    "    show_history(history, True, modelName)\n",
    "    \n",
    "    classifier_model.save('saved_model/final_dataset/' + modelName)"
   ]
  },
  {
   "cell_type": "code",
   "execution_count": 80,
   "metadata": {
    "tags": []
   },
   "outputs": [
    {
     "name": "stderr",
     "output_type": "stream",
     "text": [
      "WARNING:absl:Found untraced functions such as restored_function_body, restored_function_body, restored_function_body, restored_function_body, restored_function_body while saving (showing 5 of 64). These functions will not be directly callable after loading.\n"
     ]
    }
   ],
   "source": [
    "# Save the model\n",
    "classifier_model.save('saved_model/smokeTestBertSmsClassifier', include_optimizer=False)"
   ]
  },
  {
   "cell_type": "code",
   "execution_count": 75,
   "metadata": {
    "tags": []
   },
   "outputs": [
    {
     "name": "stdout",
     "output_type": "stream",
     "text": [
      "Model: \"model_7\"\n",
      "__________________________________________________________________________________________________\n",
      " Layer (type)                   Output Shape         Param #     Connected to                     \n",
      "==================================================================================================\n",
      " text (InputLayer)              [(None,)]            0           []                               \n",
      "                                                                                                  \n",
      " preprocessing (KerasLayer)     {'input_mask': (Non  0           ['text[0][0]']                   \n",
      "                                e, 128),                                                          \n",
      "                                 'input_type_ids':                                                \n",
      "                                (None, 128),                                                      \n",
      "                                 'input_word_ids':                                                \n",
      "                                (None, 128)}                                                      \n",
      "                                                                                                  \n",
      " BERT_encoder (KerasLayer)      {'encoder_outputs':  22458881    ['preprocessing[0][0]',          \n",
      "                                 [(None, 128, 512),               'preprocessing[0][1]',          \n",
      "                                 (None, 128, 512)],               'preprocessing[0][2]']          \n",
      "                                 'sequence_output':                                               \n",
      "                                 (None, 128, 512),                                                \n",
      "                                 'default': (None,                                                \n",
      "                                512),                                                             \n",
      "                                 'pooled_output': (                                               \n",
      "                                None, 512)}                                                       \n",
      "                                                                                                  \n",
      " dropout_8 (Dropout)            (None, 512)          0           ['BERT_encoder[0][3]']           \n",
      "                                                                                                  \n",
      " classifier (Dense)             (None, 1)            513         ['dropout_8[0][0]']              \n",
      "                                                                                                  \n",
      "==================================================================================================\n",
      "Total params: 22,459,394\n",
      "Trainable params: 22,459,393\n",
      "Non-trainable params: 1\n",
      "__________________________________________________________________________________________________\n"
     ]
    }
   ],
   "source": [
    "classifier_model.summary()"
   ]
  },
  {
   "cell_type": "code",
   "execution_count": 12,
   "metadata": {
    "tags": []
   },
   "outputs": [],
   "source": [
    "# Plot confusion matrix and graph\n",
    "def plot_confusion_matrix(y, y_pred, type, modelName, target_names = ['Ham', 'Spam']):\n",
    "    print('Confusion matrix - ' + type)\n",
    "    confusion_report = classification_report(y, y_pred, target_names=target_names, digits=4)\n",
    "    print(confusion_report)\n",
    "    with open(f\"model_result/{modelName}_{type}.txt\", 'x') as f:\n",
    "        f.write(confusion_report)\n",
    "    \n",
    "    cm = confusion_matrix(y, y_pred)\n",
    "    plt.figure(figsize=(8, 6))\n",
    "    sns.heatmap(cm, annot=True, fmt='d', cmap='Blues', xticklabels=target_names, yticklabels=target_names)\n",
    "    plt.xlabel('Predicted')\n",
    "    plt.ylabel('True')\n",
    "    plt.title('Confusion Matrix - ' + type)\n",
    "    plt.savefig(f\"model_result/{modelName}_{type}.jpg\", format='jpeg')\n",
    "    plt.show()\n",
    "    "
   ]
  },
  {
   "cell_type": "code",
   "execution_count": 13,
   "metadata": {
    "tags": []
   },
   "outputs": [],
   "source": [
    "# Evaluate performance in term of confusing matrix\n",
    "# Check confusion matrix given dataset and model. Reference: https://colab.research.google.com/drive/1kEg0SnYNtw_IJwu_kl5y3qRVs-BKBmNO#scrollTo=_r4smPUZymS5\n",
    "def evaluateDatasetConfusionMatrix(dataset, model, modelName):\n",
    "    train_ds, val_ds, test_ds = prepare_data(dataset)\n",
    "\n",
    "    y_val_pred = tf.math.round(tf.nn.sigmoid(model.predict(val_ds)))\n",
    "    y_test_pred = tf.math.round(tf.nn.sigmoid(model.predict(test_ds)))\n",
    "\n",
    "    y_val = tf.Variable([], dtype=tf.int64)\n",
    "    for features, label in val_ds.take(-1):\n",
    "        y_val = tf.concat([y_val, label], 0)\n",
    "\n",
    "    y_test = tf.Variable([], dtype=tf.int64)\n",
    "    for features, label in test_ds.take(-1):\n",
    "        y_test = tf.concat([y_test, label], 0)\n",
    "    \n",
    "\n",
    "    plot_confusion_matrix(y_val, y_val_pred, 'Validation', modelName)\n",
    "    plot_confusion_matrix(y_test, y_test_pred, 'Testing', modelName)"
   ]
  },
  {
   "cell_type": "code",
   "execution_count": 14,
   "metadata": {
    "tags": []
   },
   "outputs": [
    {
     "name": "stdout",
     "output_type": "stream",
     "text": [
      "Try loading model saved_model/final_dataset/small_bert/bert_en_uncased_L-8_H-512_A-8\n",
      "loaded!\n",
      "837/837 [==============================] - 23s 26ms/step\n",
      "412/412 [==============================] - 11s 27ms/step\n",
      "Confusion matrix - Validation\n",
      "              precision    recall  f1-score   support\n",
      "\n",
      "         Ham     0.9406    0.9631    0.9517      3091\n",
      "        Spam     0.9677    0.9477    0.9576      3598\n",
      "\n",
      "    accuracy                         0.9549      6689\n",
      "   macro avg     0.9541    0.9554    0.9547      6689\n",
      "weighted avg     0.9552    0.9549    0.9549      6689\n",
      "\n"
     ]
    },
    {
     "data": {
      "image/png": "[encoded data removed]",
      "text/plain": [
       "<Figure size 800x600 with 2 Axes>"
      ]
     },
     "metadata": {},
     "output_type": "display_data"
    },
    {
     "name": "stdout",
     "output_type": "stream",
     "text": [
      "Confusion matrix - Testing\n",
      "              precision    recall  f1-score   support\n",
      "\n",
      "         Ham     0.9436    0.9565    0.9500      1540\n",
      "        Spam     0.9614    0.9499    0.9556      1755\n",
      "\n",
      "    accuracy                         0.9530      3295\n",
      "   macro avg     0.9525    0.9532    0.9528      3295\n",
      "weighted avg     0.9531    0.9530    0.9530      3295\n",
      "\n"
     ]
    },
    {
     "data": {
      "image/png": "[encoded data removed]",
      "text/plain": [
       "<Figure size 800x600 with 2 Axes>"
      ]
     },
     "metadata": {},
     "output_type": "display_data"
    }
   ],
   "source": [
    "# evaluateDatasetConfusionMatrix('best_dataset.csv', loaded_model, 'small_bert/bert_en_uncased_L-8_H-512_A-8')\n",
    "\n",
    "# Check all trained model confusion matrix for comparison\n",
    "saved_models = [\n",
    "    # 'saved_model/small_bert_backup/bert_en_uncased_L-2_H-128_A-2',\n",
    "    # 'saved_model/small_bert_backup/bert_en_uncased_L-4_H-256_A-4',\n",
    "    # 'saved_model/small_bert_backup/bert_en_uncased_L-4_H-512_A-8',\n",
    "    # 'saved_model/small_bert_backup/bert_en_uncased_L-8_H-512_A-8',\n",
    "    # 'saved_model/small_bert_backup/bert_en_uncased_L-10_H-128_A-2',\n",
    "    # 'saved_model/small_bert_backup/bert_en_uncased_L-12_H-256_A-4',\n",
    "    # 'saved_model/small_bert_backup/with_lr_3e-5_dropout_0.05/bert_en_uncased_L-2_H-128_A-2',\n",
    "    # 'saved_model/small_bert_backup/with_lr_3e-5_dropout_0.05/bert_en_uncased_L-4_H-256_A-4',\n",
    "    # 'saved_model/small_bert_backup/with_lr_3e-5_dropout_0.05/bert_en_uncased_L-4_H-512_A-8',\n",
    "    # 'saved_model/small_bert_backup/with_lr_3e-5_dropout_0.05/bert_en_uncased_L-8_H-512_A-8',\n",
    "    'saved_model/final_dataset/small_bert/bert_en_uncased_L-8_H-512_A-8',\n",
    "]\n",
    "\n",
    "for model in saved_models:\n",
    "    print(\"Try loading model \" + model)\n",
    "    loaded_model = load_model(model, compile=False)\n",
    "    print(\"loaded!\")\n",
    "    evaluateDatasetConfusionMatrix('best_dataset.csv', loaded_model, model)\n"
   ]
  },
  {
   "cell_type": "code",
   "execution_count": 18,
   "metadata": {
    "tags": []
   },
   "outputs": [
    {
     "name": "stdout",
     "output_type": "stream",
     "text": [
      "SPAM\n",
      "1/1 [==============================] - 1s 774ms/step\n",
      "[[10.051525]]\n",
      "1/1 [==============================] - 0s 63ms/step\n",
      "[[10.030289]]\n",
      "1/1 [==============================] - 0s 62ms/step\n",
      "[[10.105345]]\n",
      "1/1 [==============================] - 0s 68ms/step\n",
      "[[9.679992]]\n",
      "1/1 [==============================] - 0s 65ms/step\n",
      "[[9.986523]]\n",
      "\n",
      "HAM\n",
      "1/1 [==============================] - 0s 66ms/step\n",
      "[[-7.529234]]\n",
      "1/1 [==============================] - 0s 73ms/step\n",
      "[[-7.6559753]]\n",
      "1/1 [==============================] - 0s 75ms/step\n",
      "[[-7.6358843]]\n",
      "1/1 [==============================] - 0s 73ms/step\n",
      "[[-7.7409554]]\n",
      "1/1 [==============================] - 0s 72ms/step\n",
      "[[-7.6663275]]\n"
     ]
    }
   ],
   "source": [
    "test_data_spam = [\n",
    "    \"咪咕 帶 您 體驗 正版 的 音樂 世界 新 歌 搶鮮 試聽 潮流 鈴音 隨心換 百場 歌友會 演唱會 門票 免費 搶 number 月 日前 登錄 還 能 免費 領取 number m 流量 下載 點擊 link\",\n",
    "    \"中移 通訊 手機 免費送 平板 免費 拿 只 需 number 元 價值 number 元 的 g 智慧型手機 number 元 的 平板 電腦 number 元 話費 生活 廣場 斜對面 金源 豐 手機 大 賣場\",\n",
    "    \"和 娛樂 雙周刊 港 囧 來 襲 攜 薇 包 高空 冒險 情 在 囧 途 爆笑 歸來 詳情 點擊 link ctpn 手慢 無送 又 逢 開學 季 噹噹 買書 享 優惠 啦 每周 一至 周五 下午 三點 當 當 圖書 音像 禮券 等 你 來 搶 點擊 link 如 不 需 接收 本刊 回復 hylzt 退訂\",\n",
    "    \"yes 月 日 添益 寶 用戶 狂歡 日 就是 它 了 當天 您 在 指定 商戶 門店 消費 可享 折 優惠 最高 省 元 哦 添 用戶 專享 超高 收益 理財產品 等 著 您 這麼 賺 當然 得 加入 添益 寶 登錄 翼 支付 客戶端 詳情 一網打盡 翼 支付\",\n",
    "    \"尊敬 的 客戶 根據 您 的 流量 使用 狀況 推薦 您 回復 sjll number 開通 number 元 流量 套餐 現在 辦理 年內 每月 再 送 您 number m 省內 流量 加量 不 加價 流量 大 優惠 詳詢 number 中國移動\",\n",
    "]\n",
    "\n",
    "test_data_ham = [\n",
    "    \"店鋪 導航 設置 失敗 店鋪 導航 已經 修改 了 天 了 在 微信 界面 還是 沒有 修改\",\n",
    "    \"重要 買家 無法 支付 和 地區 不 支持 最近 一直 會 出現 有 買家 選擇 收貨 地址 顯示 不 支持 的 情況 發生 但是 其 所在區域 是 支持 的 比如 河北 有 兩位 用戶 均 不 支持 該 地區 配送 但 運費 模板 上 是 支持 的 另外 還有 相同 地區 的 用戶 有人 可 下單 有人 不可 下單 甚至 連 支付 方式 都 看不到 而 如上 情況 都 是 在 關注 和 註冊 以後 發生 的\",\n",
    "    \"認證 企業 信息 被盜 用 怎麼辦 企業 信息 無法 認證 信息 已 被 認證 盜用 請 有贊 平臺 給予 人工 認證 並把 盜用 信息 帳號 給予 刪除\",\n",
    "    \"註冊 後 原來 微信 開發 的 菜單 都 失效 了 怎麼辦 你好 註冊 了 有贊 後 原來 自己 找人 開發 的 菜單 都 失效 了 請問 怎麼辦\",\n",
    "    \"顧客 接待 客戶端 用不了 客戶 接待 客戶端 更新 之後 沒什麼 上不了 只能 上 網頁版 的\"\n",
    "]\n",
    "\n",
    "print(\"SPAM\")\n",
    "for data in test_data_spam:\n",
    "    result = loaded_model.predict([data])\n",
    "    print(result)\n",
    "    \n",
    "print(\"\\nHAM\")\n",
    "for data in test_data_ham:\n",
    "    result = loaded_model.predict([data])\n",
    "    print(result)"
   ]
  },
  {
   "cell_type": "code",
   "execution_count": 37,
   "metadata": {
    "tags": []
   },
   "outputs": [
    {
     "name": "stdout",
     "output_type": "stream",
     "text": [
      "1\n",
      "1\n",
      "0\n",
      "0\n"
     ]
    }
   ],
   "source": [
    "print(round(0.9))\n",
    "print(round(0.51))\n",
    "print(round(0.49999))\n",
    "print(round(0.01))"
   ]
  },
  {
   "cell_type": "code",
   "execution_count": 78,
   "metadata": {},
   "outputs": [
    {
     "name": "stdout",
     "output_type": "stream",
     "text": [
      "dict_keys([])\n"
     ]
    },
    {
     "ename": "KeyError",
     "evalue": "'binary_accuracy'",
     "output_type": "error",
     "traceback": [
      "\u001b[0;31m---------------------------------------------------------------------------\u001b[0m",
      "\u001b[0;31mKeyError\u001b[0m                                  Traceback (most recent call last)",
      "Cell \u001b[0;32mIn[78], line 1\u001b[0m\n\u001b[0;32m----> 1\u001b[0m \u001b[43mshow_history\u001b[49m\u001b[43m(\u001b[49m\u001b[43mloaded_model\u001b[49m\u001b[38;5;241;43m.\u001b[39;49m\u001b[43mhistory\u001b[49m\u001b[43m)\u001b[49m\n",
      "Cell \u001b[0;32mIn[72], line 13\u001b[0m, in \u001b[0;36mshow_history\u001b[0;34m(history)\u001b[0m\n\u001b[1;32m     10\u001b[0m history_dict \u001b[38;5;241m=\u001b[39m history\u001b[38;5;241m.\u001b[39mhistory\n\u001b[1;32m     11\u001b[0m \u001b[38;5;28mprint\u001b[39m(history_dict\u001b[38;5;241m.\u001b[39mkeys())\n\u001b[0;32m---> 13\u001b[0m acc \u001b[38;5;241m=\u001b[39m \u001b[43mhistory_dict\u001b[49m\u001b[43m[\u001b[49m\u001b[38;5;124;43m'\u001b[39;49m\u001b[38;5;124;43mbinary_accuracy\u001b[39;49m\u001b[38;5;124;43m'\u001b[39;49m\u001b[43m]\u001b[49m\n\u001b[1;32m     14\u001b[0m val_acc \u001b[38;5;241m=\u001b[39m history_dict[\u001b[38;5;124m'\u001b[39m\u001b[38;5;124mval_binary_accuracy\u001b[39m\u001b[38;5;124m'\u001b[39m]\n\u001b[1;32m     15\u001b[0m loss \u001b[38;5;241m=\u001b[39m history_dict[\u001b[38;5;124m'\u001b[39m\u001b[38;5;124mloss\u001b[39m\u001b[38;5;124m'\u001b[39m]\n",
      "\u001b[0;31mKeyError\u001b[0m: 'binary_accuracy'"
     ]
    }
   ],
   "source": []
  },
  {
   "cell_type": "code",
   "execution_count": null,
   "metadata": {},
   "outputs": [],
   "source": []
  }
 ],
 "metadata": {
  "kernelspec": {
   "display_name": "Python 3 (ipykernel)",
   "language": "python",
   "name": "python3"
  },
  "language_info": {
   "codemirror_mode": {
    "name": "ipython",
    "version": 3
   },
   "file_extension": ".py",
   "mimetype": "text/x-python",
   "name": "python",
   "nbconvert_exporter": "python",
   "pygments_lexer": "ipython3",
   "version": "3.9.16"
  }
 },
 "nbformat": 4,
 "nbformat_minor": 4
}
