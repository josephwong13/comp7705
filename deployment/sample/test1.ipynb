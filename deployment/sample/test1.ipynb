{
 "cells": [
  {
   "cell_type": "code",
   "execution_count": null,
   "metadata": {},
   "outputs": [],
   "source": [
    "\n",
    "from sklearn import datasets\n",
    "import pandas as pd\n",
    "from sklearn.svm import SVC\n",
    "import pickle\n",
    "\n",
    "\n",
    "iris = datasets.load_iris()\n",
    "X = iris.data  # we only take the first two features.\n",
    "y = iris.target\n",
    "# print (X)\n",
    "df = pd.DataFrame(data=X,columns=iris.feature_names)\n",
    "df['target'] = y\n",
    "# print (df)\n",
    "df = df.sample(frac=1).reset_index(drop=True)\n",
    "clf =SVC(probability=True)\n",
    "clf.fit(df.drop(columns='target'),df.target)\n",
    "\n",
    "filename = 'iris_model2.sav'\n",
    "pickle.dump(clf, open(filename, 'wb'))\n"
   ]
  },
  {
   "cell_type": "code",
   "execution_count": null,
   "metadata": {},
   "outputs": [],
   "source": [
    "import requests\n",
    "\n",
    "url_local = 'http://localhost:8080/2015-03-31/functions/function/invocations'\n",
    "url_lambda = \"https://jqxjlkro89.execute-api.ap-east-1.amazonaws.com/Test/predict\"\n",
    "data1 = {\"values\":[[0.1,2,0.1,3]]}\n",
    "data2 ={\"values\":[[5.9,3.0,5.1,2.3]]}\n",
    "result1,result2 = requests.post(url_local, json=data1).json(),requests.post(url_local, json=data2).json()\n",
    "print(result1,result2)\n",
    "print(type(result1))"
   ]
  },
  {
   "cell_type": "code",
   "execution_count": null,
   "metadata": {},
   "outputs": [],
   "source": [
    "import pickle \n",
    "\n",
    "filename = 'iris_model.sav'\n",
    "model = pickle.load(open(filename, 'rb'))\n",
    "data1 = {\"values\":[[0.1,2,0.1,3]]}\n",
    "result = model.predict(data1[\"values\"]).tolist()\n",
    "print(type(result))"
   ]
  }
 ],
 "metadata": {
  "kernelspec": {
   "display_name": "tf",
   "language": "python",
   "name": "python3"
  },
  "language_info": {
   "codemirror_mode": {
    "name": "ipython",
    "version": 3
   },
   "file_extension": ".py",
   "mimetype": "text/x-python",
   "name": "python",
   "nbconvert_exporter": "python",
   "pygments_lexer": "ipython3",
   "version": "3.10.11"
  },
  "orig_nbformat": 4
 },
 "nbformat": 4,
 "nbformat_minor": 2
}
