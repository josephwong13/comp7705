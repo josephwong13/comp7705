{
 "cells": [
  {
   "cell_type": "code",
   "execution_count": 1,
   "metadata": {},
   "outputs": [],
   "source": [
    "import tensorflow as tf\n",
    "import tensorflow_text as text\n",
    "import tensorflow_hub as hub\n",
    "from keras.models import load_model\n",
    "\n",
    "model = load_model('saved_model/bertSmsClassifier',compile=False)\n"
   ]
  },
  {
   "cell_type": "code",
   "execution_count": 39,
   "metadata": {},
   "outputs": [
    {
     "name": "stdout",
     "output_type": "stream",
     "text": [
      "1/1 [==============================] - 0s 81ms/step\n",
      "[[-6.2472925]]\n",
      "-6.2472925\n",
      "[0.3487066328525543]\n"
     ]
    }
   ],
   "source": [
    "result = model.predict([[\"付款 成功 公眾 號 發出 付款 成功 的 消息 加上 自定義 連結 付款 成功 後 公眾 號 發出 付款 成功 的 消息 可以 加上 自定義 連結 嗎\"]])\n",
    "print(result)\n",
    "result = str(result).lstrip('[').rstrip(']')\n",
    "print(result)\n",
    "result = [float(tf.sigmoid((float(result))/10))]\n",
    "print(result)"
   ]
  },
  {
   "cell_type": "code",
   "execution_count": 45,
   "metadata": {},
   "outputs": [
    {
     "name": "stdout",
     "output_type": "stream",
     "text": [
      "[0.4594915211200714] [0.4544181823730469]\n",
      "<class 'list'>\n"
     ]
    }
   ],
   "source": [
    "import requests\n",
    "\n",
    "url_local = 'http://localhost:8080/2015-03-31/functions/function/invocations'\n",
    "url_lambda = \"https://eiu051ow89.execute-api.ap-southeast-1.amazonaws.com/Predict/predict\"\n",
    "data1 = {\"values\":[[\"test3\"]]}\n",
    "data2 ={\"values\":[[\"test4\"]]}\n",
    "result1,result2 = requests.post(url_lambda, json=data1).json(),requests.post(url_lambda, json=data2).json()\n",
    "print(result1,result2)\n",
    "print(type(result1))"
   ]
  }
 ],
 "metadata": {
  "kernelspec": {
   "display_name": "tensorflow",
   "language": "python",
   "name": "python3"
  },
  "language_info": {
   "codemirror_mode": {
    "name": "ipython",
    "version": 3
   },
   "file_extension": ".py",
   "mimetype": "text/x-python",
   "name": "python",
   "nbconvert_exporter": "python",
   "pygments_lexer": "ipython3",
   "version": "3.10.11"
  },
  "orig_nbformat": 4
 },
 "nbformat": 4,
 "nbformat_minor": 2
}
