{
 "cells": [
  {
   "cell_type": "code",
   "execution_count": 24,
   "metadata": {},
   "outputs": [
    {
     "name": "stdout",
     "output_type": "stream",
     "text": [
      "<keras.engine.sequential.Sequential object at 0x0000012F8BCC9A80>\n",
      "WARNING:tensorflow:No training configuration found in save file, so the model was *not* compiled. Compile it manually.\n"
     ]
    },
    {
     "name": "stderr",
     "output_type": "stream",
     "text": [
      "WARNING:tensorflow:No training configuration found in save file, so the model was *not* compiled. Compile it manually.\n"
     ]
    },
    {
     "name": "stdout",
     "output_type": "stream",
     "text": [
      "<keras.engine.functional.Functional object at 0x0000012F8C9C0A00>\n",
      " * Serving Flask app '__main__'\n",
      " * Debug mode: off\n"
     ]
    },
    {
     "name": "stderr",
     "output_type": "stream",
     "text": [
      "INFO:werkzeug:\u001b[31m\u001b[1mWARNING: This is a development server. Do not use it in a production deployment. Use a production WSGI server instead.\u001b[0m\n",
      " * Running on all addresses (0.0.0.0)\n",
      " * Running on http://127.0.0.1:8080\n",
      " * Running on http://192.168.1.121:8080\n",
      "INFO:werkzeug:\u001b[33mPress CTRL+C to quit\u001b[0m\n"
     ]
    }
   ],
   "source": [
    "import tensorflow as tf\n",
    "import tensorflow_text as text\n",
    "import tensorflow_hub as hub\n",
    "# Import Flask and Machine Learning Dependencies for \n",
    "# loading your model and preparing the input data\n",
    "import flask\n",
    "import json\n",
    "from flask import request\n",
    "from keras.models import load_model\n",
    "\n",
    "model = load_model('model.h5',custom_objects={'KerasLayer': hub.KerasLayer})\n",
    "print(model)\n",
    "\n",
    "# Create the flaks App\n",
    "app = flask.Flask(__name__)\n",
    "  \n",
    "@app.route(\"/predict\", methods=['POST'])\n",
    "def predict():\n",
    "    content_type = request.headers.get('Content-Type')\n",
    "    if (content_type == 'application/json'):\n",
    "        json_input = request.json\n",
    "        #print(json_input)\n",
    "        sms = json_input[\"sms\"]\n",
    "        #print(sms)\n",
    "        result = model.predict(sms)\n",
    "        #print(result)\n",
    "        result = str(result.tolist()).lstrip('[').rstrip(']')\n",
    "        #print(result)\n",
    "        result_string = '{\"score\": '+result+'}'\n",
    "        #print(result_string)\n",
    "        result_json = json.loads(result_string)\n",
    "        #print(result_json)\n",
    "        return result_json\n",
    "    else:\n",
    "        return 'Content-Type not supported!'\n",
    "\n",
    "# Start the flask app and allow remote connections\n",
    "app.run(host='0.0.0.0', port = 8080)"
   ]
  }
 ],
 "metadata": {
  "kernelspec": {
   "display_name": "tf",
   "language": "python",
   "name": "python3"
  },
  "language_info": {
   "codemirror_mode": {
    "name": "ipython",
    "version": 3
   },
   "file_extension": ".py",
   "mimetype": "text/x-python",
   "name": "python",
   "nbconvert_exporter": "python",
   "pygments_lexer": "ipython3",
   "version": "3.10.11"
  },
  "orig_nbformat": 4
 },
 "nbformat": 4,
 "nbformat_minor": 2
}
