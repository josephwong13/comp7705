{
 "cells": [
  {
   "cell_type": "code",
   "execution_count": 1,
   "id": "34d25ab2",
   "metadata": {},
   "outputs": [
    {
     "name": "stdout",
     "output_type": "stream",
     "text": [
      "283\n",
      "手头紧 找 平安 直通 贷 最快 天 放款 月息 最低 DIGIT 大 平台 有 保证 贷款 成功 送 万个 万里 通 积分 详情 点击 URLdfge PLACE 平安 \n"
     ]
    }
   ],
   "source": [
    "# Loading testing data\n",
    "testDataFile = open(\"testData.txt\", \"r\")\n",
    "spamSms = testDataFile.read().split(\"\\n\")\n",
    "testDataFile.close()\n",
    "\n",
    "print(len(spamSms))\n",
    "print(spamSms[0])"
   ]
  },
  {
   "cell_type": "code",
   "execution_count": 2,
   "id": "1fb391f4",
   "metadata": {},
   "outputs": [
    {
     "ename": "ModuleNotFoundError",
     "evalue": "No module named 'sklearn'",
     "output_type": "error",
     "traceback": [
      "\u001b[0;31m---------------------------------------------------------------------------\u001b[0m",
      "\u001b[0;31mModuleNotFoundError\u001b[0m                       Traceback (most recent call last)",
      "Cell \u001b[0;32mIn[2], line 2\u001b[0m\n\u001b[1;32m      1\u001b[0m \u001b[38;5;66;03m# Testing Bag of Word method\u001b[39;00m\n\u001b[0;32m----> 2\u001b[0m \u001b[38;5;28;01mfrom\u001b[39;00m \u001b[38;5;21;01msklearn\u001b[39;00m\u001b[38;5;21;01m.\u001b[39;00m\u001b[38;5;21;01mfeature_extraction\u001b[39;00m\u001b[38;5;21;01m.\u001b[39;00m\u001b[38;5;21;01mtext\u001b[39;00m \u001b[38;5;28;01mimport\u001b[39;00m CountVectorizer\n\u001b[1;32m      3\u001b[0m vectorizer \u001b[38;5;241m=\u001b[39m CountVectorizer()\n\u001b[1;32m      4\u001b[0m vectorizer\u001b[38;5;241m.\u001b[39mfit(spamSms)\n",
      "\u001b[0;31mModuleNotFoundError\u001b[0m: No module named 'sklearn'"
     ]
    }
   ],
   "source": [
    "# Testing Bag of Word method\n",
    "import sklearn\n",
    "from sklearn.feature_extraction.text import CountVectorizer\n",
    "vectorizer = CountVectorizer()\n",
    "vectorizer.fit(spamSms)\n",
    "\n",
    "vector = vectorizer.transform(spamSms[0])\n",
    "\n",
    "print(vector.shape)\n",
    "print(type(vector))\n",
    "print(vector)\n"
   ]
  },
  {
   "cell_type": "code",
   "execution_count": null,
   "id": "1a924c5e",
   "metadata": {},
   "outputs": [],
   "source": []
  }
 ],
 "metadata": {
  "kernelspec": {
   "display_name": "featureExtration",
   "language": "python",
   "name": "featureextration"
  },
  "language_info": {
   "codemirror_mode": {
    "name": "ipython",
    "version": 3
   },
   "file_extension": ".py",
   "mimetype": "text/x-python",
   "name": "python",
   "nbconvert_exporter": "python",
   "pygments_lexer": "ipython3",
   "version": "3.9.12"
  },
  "vscode": {
   "interpreter": {
    "hash": "87dc40f78584ad215daf1a34029e7534cfef3110b38cfe89103d23fe1936177c"
   }
  }
 },
 "nbformat": 4,
 "nbformat_minor": 5
}
